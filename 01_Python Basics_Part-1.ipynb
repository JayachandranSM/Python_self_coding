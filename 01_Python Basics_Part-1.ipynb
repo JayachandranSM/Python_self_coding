{
 "cells": [
  {
   "cell_type": "markdown",
   "id": "49e8e177",
   "metadata": {},
   "source": [
    "# <font color = 'Green'> Python Using as a calculator<font/>"
   ]
  },
  {
   "cell_type": "code",
   "execution_count": 1,
   "id": "2885d356",
   "metadata": {},
   "outputs": [
    {
     "data": {
      "text/plain": [
       "690"
      ]
     },
     "execution_count": 1,
     "metadata": {},
     "output_type": "execute_result"
    }
   ],
   "source": [
    "# Addition\n",
    "\n",
    "123 +567"
   ]
  },
  {
   "cell_type": "code",
   "execution_count": 2,
   "id": "f8e363e5",
   "metadata": {},
   "outputs": [
    {
     "data": {
      "text/plain": [
       "12329"
      ]
     },
     "execution_count": 2,
     "metadata": {},
     "output_type": "execute_result"
    }
   ],
   "source": [
    "# Substraction\n",
    "\n",
    "12341-12"
   ]
  },
  {
   "cell_type": "code",
   "execution_count": 3,
   "id": "90004eaa",
   "metadata": {},
   "outputs": [
    {
     "data": {
      "text/plain": [
       "56088"
      ]
     },
     "execution_count": 3,
     "metadata": {},
     "output_type": "execute_result"
    }
   ],
   "source": [
    "# Multiplication\n",
    "\n",
    "123*456"
   ]
  },
  {
   "cell_type": "code",
   "execution_count": 4,
   "id": "dcb16b7f",
   "metadata": {},
   "outputs": [
    {
     "data": {
      "text/plain": [
       "3.0"
      ]
     },
     "execution_count": 4,
     "metadata": {},
     "output_type": "execute_result"
    }
   ],
   "source": [
    "# Division\n",
    "\n",
    "# Always we will get result as in the form of float\n",
    "\n",
    "12/4"
   ]
  },
  {
   "cell_type": "code",
   "execution_count": 5,
   "id": "207b3f75",
   "metadata": {},
   "outputs": [
    {
     "data": {
      "text/plain": [
       "2"
      ]
     },
     "execution_count": 5,
     "metadata": {},
     "output_type": "execute_result"
    }
   ],
   "source": [
    "# Floor or Step Division\n",
    "\n",
    "12//5"
   ]
  },
  {
   "cell_type": "code",
   "execution_count": 6,
   "id": "eccb3286",
   "metadata": {},
   "outputs": [
    {
     "data": {
      "text/plain": [
       "2"
      ]
     },
     "execution_count": 6,
     "metadata": {},
     "output_type": "execute_result"
    }
   ],
   "source": [
    "# reminder or modulo devision\n",
    "\n",
    "12 % 5"
   ]
  },
  {
   "cell_type": "code",
   "execution_count": 7,
   "id": "bb7643da",
   "metadata": {},
   "outputs": [
    {
     "data": {
      "text/plain": [
       "1024"
      ]
     },
     "execution_count": 7,
     "metadata": {},
     "output_type": "execute_result"
    }
   ],
   "source": [
    "# Exponent or power operation\n",
    "\n",
    "2**10"
   ]
  },
  {
   "cell_type": "code",
   "execution_count": null,
   "id": "cda27ac1",
   "metadata": {},
   "outputs": [],
   "source": []
  }
 ],
 "metadata": {
  "kernelspec": {
   "display_name": "Python 3 (ipykernel)",
   "language": "python",
   "name": "python3"
  },
  "language_info": {
   "codemirror_mode": {
    "name": "ipython",
    "version": 3
   },
   "file_extension": ".py",
   "mimetype": "text/x-python",
   "name": "python",
   "nbconvert_exporter": "python",
   "pygments_lexer": "ipython3",
   "version": "3.9.7"
  }
 },
 "nbformat": 4,
 "nbformat_minor": 5
}
