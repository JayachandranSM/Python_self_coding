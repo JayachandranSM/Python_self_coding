{
 "cells": [
  {
   "cell_type": "code",
   "execution_count": 2,
   "id": "d5ebc956",
   "metadata": {},
   "outputs": [],
   "source": [
    "# creating a list\n",
    "\n",
    "# creating a variable\n",
    "\n",
    "b =999\n",
    "\n",
    "list_smaple = [10,9.9,True,False,\"Python\",[1,1,2,33,44],b]"
   ]
  },
  {
   "cell_type": "code",
   "execution_count": 3,
   "id": "fa36eea9",
   "metadata": {},
   "outputs": [
    {
     "data": {
      "text/plain": [
       "list"
      ]
     },
     "execution_count": 3,
     "metadata": {},
     "output_type": "execute_result"
    }
   ],
   "source": [
    "# To check the data type\n",
    "\n",
    "type(list_smaple)"
   ]
  },
  {
   "cell_type": "code",
   "execution_count": 4,
   "id": "9bb9b348",
   "metadata": {},
   "outputs": [
    {
     "data": {
      "text/plain": [
       "7"
      ]
     },
     "execution_count": 4,
     "metadata": {},
     "output_type": "execute_result"
    }
   ],
   "source": [
    "# To check the length\n",
    "\n",
    "len(list_smaple)"
   ]
  },
  {
   "cell_type": "code",
   "execution_count": 8,
   "id": "f236222e",
   "metadata": {},
   "outputs": [
    {
     "ename": "IndexError",
     "evalue": "list index out of range",
     "output_type": "error",
     "traceback": [
      "\u001b[1;31m---------------------------------------------------------------------------\u001b[0m",
      "\u001b[1;31mIndexError\u001b[0m                                Traceback (most recent call last)",
      "\u001b[1;32m~\\AppData\\Local\\Temp/ipykernel_23540/2548025922.py\u001b[0m in \u001b[0;36m<module>\u001b[1;34m\u001b[0m\n\u001b[0;32m      1\u001b[0m \u001b[1;31m# Accessing single elements\u001b[0m\u001b[1;33m\u001b[0m\u001b[1;33m\u001b[0m\u001b[0m\n\u001b[0;32m      2\u001b[0m \u001b[1;33m\u001b[0m\u001b[0m\n\u001b[1;32m----> 3\u001b[1;33m \u001b[0mlist_smaple\u001b[0m\u001b[1;33m[\u001b[0m\u001b[1;36m7\u001b[0m\u001b[1;33m]\u001b[0m\u001b[1;33m\u001b[0m\u001b[1;33m\u001b[0m\u001b[0m\n\u001b[0m",
      "\u001b[1;31mIndexError\u001b[0m: list index out of range"
     ]
    }
   ],
   "source": [
    "# Accessing single elements\n",
    "\n",
    "list_smaple[7]"
   ]
  },
  {
   "cell_type": "code",
   "execution_count": 13,
   "id": "8f62ec61",
   "metadata": {},
   "outputs": [
    {
     "data": {
      "text/plain": [
       "[True, False]"
      ]
     },
     "execution_count": 13,
     "metadata": {},
     "output_type": "execute_result"
    }
   ],
   "source": [
    "# Index form to access true, False\n",
    "\n",
    "list_smaple[2:4]"
   ]
  },
  {
   "cell_type": "code",
   "execution_count": 14,
   "id": "ca6b399b",
   "metadata": {},
   "outputs": [
    {
     "data": {
      "text/plain": [
       "[10, 9.9, True, False, 'Python', [1, 1, 2, 33, 44], 999]"
      ]
     },
     "execution_count": 14,
     "metadata": {},
     "output_type": "execute_result"
    }
   ],
   "source": [
    "# Access [1, 1, 2, 33, 44] with negetive index\n",
    "\n",
    "list_smaple"
   ]
  },
  {
   "cell_type": "code",
   "execution_count": 17,
   "id": "d1315ec7",
   "metadata": {},
   "outputs": [
    {
     "data": {
      "text/plain": [
       "[1, 1, 2, 33, 44]"
      ]
     },
     "execution_count": 17,
     "metadata": {},
     "output_type": "execute_result"
    }
   ],
   "source": [
    "list_smaple[-2]"
   ]
  },
  {
   "cell_type": "code",
   "execution_count": 18,
   "id": "bdc1ceb6",
   "metadata": {},
   "outputs": [
    {
     "data": {
      "text/plain": [
       "33"
      ]
     },
     "execution_count": 18,
     "metadata": {},
     "output_type": "execute_result"
    }
   ],
   "source": [
    "# to access elements inside to the [1, 1, 2, 33, 44]\n",
    "\n",
    "list_smaple[-2][3]"
   ]
  },
  {
   "cell_type": "code",
   "execution_count": 19,
   "id": "edcb6dfb",
   "metadata": {},
   "outputs": [
    {
     "data": {
      "text/plain": [
       "33"
      ]
     },
     "execution_count": 19,
     "metadata": {},
     "output_type": "execute_result"
    }
   ],
   "source": [
    "list_smaple[-2][-2]"
   ]
  },
  {
   "cell_type": "code",
   "execution_count": 20,
   "id": "307fae7b",
   "metadata": {},
   "outputs": [
    {
     "data": {
      "text/plain": [
       "[999, [1, 1, 2, 33, 44], 'Python', False, True, 9.9, 10]"
      ]
     },
     "execution_count": 20,
     "metadata": {},
     "output_type": "execute_result"
    }
   ],
   "source": [
    "# How to reverse the list elements\n",
    "\n",
    "list_smaple[: :-1]\n"
   ]
  },
  {
   "cell_type": "markdown",
   "id": "17e97763",
   "metadata": {},
   "source": [
    "# Tuple"
   ]
  },
  {
   "cell_type": "code",
   "execution_count": 23,
   "id": "8f47bcca",
   "metadata": {},
   "outputs": [],
   "source": [
    "# Creating A Tuple\n",
    "\n",
    "b =999\n",
    "\n",
    "tuple_sample = (10,9.9,True,False,\"Python\",[1,1,2,33,44],b)"
   ]
  },
  {
   "cell_type": "code",
   "execution_count": 24,
   "id": "c9195c08",
   "metadata": {},
   "outputs": [
    {
     "data": {
      "text/plain": [
       "tuple"
      ]
     },
     "execution_count": 24,
     "metadata": {},
     "output_type": "execute_result"
    }
   ],
   "source": [
    "# data type checking\n",
    "\n",
    "type(tuple_sample)"
   ]
  },
  {
   "cell_type": "code",
   "execution_count": 25,
   "id": "5f179717",
   "metadata": {},
   "outputs": [
    {
     "data": {
      "text/plain": [
       "7"
      ]
     },
     "execution_count": 25,
     "metadata": {},
     "output_type": "execute_result"
    }
   ],
   "source": [
    "# lenth\n",
    "\n",
    "len(tuple_sample)"
   ]
  },
  {
   "cell_type": "markdown",
   "id": "0b7b40d2",
   "metadata": {},
   "source": [
    "# indexing concept also same as list"
   ]
  },
  {
   "cell_type": "markdown",
   "id": "05516f0a",
   "metadata": {},
   "source": [
    "# Set "
   ]
  },
  {
   "cell_type": "code",
   "execution_count": 28,
   "id": "c27553f8",
   "metadata": {},
   "outputs": [],
   "source": [
    "# creating a set\n",
    "\n",
    "# list inside set not allowed\n",
    "\n",
    "# set inside set not allowed\n",
    "\n",
    "set_sample = {1,1,1,1,2,2,2,23,3,3,3,34.5, True, False,(1,2,2,2),\"python\",'python',12+45j}"
   ]
  },
  {
   "cell_type": "code",
   "execution_count": 29,
   "id": "b43ea04a",
   "metadata": {},
   "outputs": [
    {
     "data": {
      "text/plain": [
       "{(1, 2, 2, 2), (12+45j), 1, 2, 23, 3, 34.5, False, 'python'}"
      ]
     },
     "execution_count": 29,
     "metadata": {},
     "output_type": "execute_result"
    }
   ],
   "source": [
    "set_sample"
   ]
  },
  {
   "cell_type": "code",
   "execution_count": 31,
   "id": "048aa95e",
   "metadata": {},
   "outputs": [
    {
     "data": {
      "text/plain": [
       "True"
      ]
     },
     "execution_count": 31,
     "metadata": {},
     "output_type": "execute_result"
    }
   ],
   "source": [
    "True"
   ]
  },
  {
   "cell_type": "code",
   "execution_count": 36,
   "id": "fbd9598e",
   "metadata": {},
   "outputs": [],
   "source": [
    "set_sample = {2,2,2,23,3,3,3,34.5,0, True, False,(1,2,2,2),\"python\",'python',12+45j}"
   ]
  },
  {
   "cell_type": "code",
   "execution_count": 37,
   "id": "9c280bfa",
   "metadata": {},
   "outputs": [
    {
     "data": {
      "text/plain": [
       "{(1, 2, 2, 2), (12+45j), 0, 2, 23, 3, 34.5, True, 'python'}"
      ]
     },
     "execution_count": 37,
     "metadata": {},
     "output_type": "execute_result"
    }
   ],
   "source": [
    "set_sample"
   ]
  },
  {
   "cell_type": "code",
   "execution_count": 35,
   "id": "a556f5d4",
   "metadata": {},
   "outputs": [
    {
     "data": {
      "text/plain": [
       "(12+45j)"
      ]
     },
     "execution_count": 35,
     "metadata": {},
     "output_type": "execute_result"
    }
   ],
   "source": [
    "12+45j"
   ]
  },
  {
   "cell_type": "markdown",
   "id": "1dcd2669",
   "metadata": {},
   "source": [
    "# Dictionary"
   ]
  },
  {
   "cell_type": "code",
   "execution_count": 44,
   "id": "619adb58",
   "metadata": {},
   "outputs": [],
   "source": [
    "sample_dict = {1 : \"one\",\"two\": 2,'lis' :[1,2,3,4,5,6,7],'tup':(1,3,6,9),'se':{1,1,2,2,3,3,4},34 :99,\n",
    "               'dic':{1:1,2:2,3:3},\"programming\":\"python\" ,1:\"ONE\",\"three\" :2}"
   ]
  },
  {
   "cell_type": "code",
   "execution_count": 45,
   "id": "3cbb4baf",
   "metadata": {},
   "outputs": [
    {
     "data": {
      "text/plain": [
       "{1: 'ONE',\n",
       " 'two': 2,\n",
       " 'lis': [1, 2, 3, 4, 5, 6, 7],\n",
       " 'tup': (1, 3, 6, 9),\n",
       " 'se': {1, 2, 3, 4},\n",
       " 34: 99,\n",
       " 'dic': {1: 1, 2: 2, 3: 3},\n",
       " 'programming': 'python',\n",
       " 'three': 2}"
      ]
     },
     "execution_count": 45,
     "metadata": {},
     "output_type": "execute_result"
    }
   ],
   "source": [
    "sample_dict"
   ]
  },
  {
   "cell_type": "code",
   "execution_count": null,
   "id": "5703b2fa",
   "metadata": {},
   "outputs": [],
   "source": []
  }
 ],
 "metadata": {
  "kernelspec": {
   "display_name": "Python 3 (ipykernel)",
   "language": "python",
   "name": "python3"
  },
  "language_info": {
   "codemirror_mode": {
    "name": "ipython",
    "version": 3
   },
   "file_extension": ".py",
   "mimetype": "text/x-python",
   "name": "python",
   "nbconvert_exporter": "python",
   "pygments_lexer": "ipython3",
   "version": "3.9.7"
  }
 },
 "nbformat": 4,
 "nbformat_minor": 5
}
