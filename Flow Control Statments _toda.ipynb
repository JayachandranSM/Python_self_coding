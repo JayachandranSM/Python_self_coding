{
 "cells": [
  {
   "cell_type": "markdown",
   "id": "988893ee",
   "metadata": {},
   "source": [
    "# <center> <font color = 'red'> Flow Control Statments<font/><center>"
   ]
  },
  {
   "cell_type": "markdown",
   "id": "63c13fec",
   "metadata": {},
   "source": [
    "- Flow Control Statments in python will help us to change the order of statments in execution wrt to our requirments, conditions.\n",
    "\n",
    "- These Flow Control Statments are mainly divided into 3 categories those are-\n",
    "\n",
    "    - Conditional Statments \n",
    "    \n",
    "    - Looping Statments / Iterative Statments\n",
    "    \n",
    "    - Control Statments/ Transfer Statments"
   ]
  },
  {
   "cell_type": "markdown",
   "id": "5443d537",
   "metadata": {},
   "source": [
    "<font color = 'red'>1. Conditional Statments:<font/>\n",
    "    \n",
    "    These are used to execute certain code blocks only if a certain condition is True. (if, else, elif)"
   ]
  },
  {
   "cell_type": "markdown",
   "id": "9266f8e9",
   "metadata": {},
   "source": [
    "<font color = 'red'>2. Looping Statments :<font/>\n",
    "    \n",
    "    These are used to execute a set of instructions repeatedly until a certain condition is met. In python 2 types of loops those are 1. for Loop  2. While Loop."
   ]
  },
  {
   "cell_type": "markdown",
   "id": "b622b68c",
   "metadata": {},
   "source": [
    "<font color = 'red'>3. Transfer Statments :<font/>\n",
    "    \n",
    "    These are used to alter the flow of the program execution. In python 3 types of control statments, those are \n",
    "    1. Break \n",
    "    2. Continue \n",
    "    3. Pass"
   ]
  },
  {
   "cell_type": "markdown",
   "id": "60b8d393",
   "metadata": {},
   "source": [
    "## <font color = 'red'>1. Conditional Statments:<font/>"
   ]
  },
  {
   "cell_type": "markdown",
   "id": "55e874d4",
   "metadata": {},
   "source": [
    "### <center><font color = 'red'>1. if <font/><center/>"
   ]
  },
  {
   "cell_type": "markdown",
   "id": "c9109510",
   "metadata": {},
   "source": [
    "**Syntax**\n",
    "\n",
    "*Method - 1*\n",
    "\n",
    "if condition : Statments\n",
    "\n",
    "------------------------------------------------\n",
    "\n",
    "*Method - 2*\n",
    "\n",
    "if Condition:\n",
    "\n",
    "    *-------*\n",
    "    \n",
    "    *-------*\n",
    "    \n",
    "    *-------*\n"
   ]
  },
  {
   "cell_type": "markdown",
   "id": "02cd561a",
   "metadata": {},
   "source": [
    "### <center><font color = 'red'>1. if - else <font/><center/>"
   ]
  },
  {
   "cell_type": "markdown",
   "id": "b1cd5e89",
   "metadata": {},
   "source": [
    "*Method - 1*\n",
    "\n",
    "if Condition:\n",
    "\n",
    "    *-------*\n",
    "    \n",
    "    *-------*\n",
    "    \n",
    "    *-------*\n",
    "    \n",
    "else:\n",
    "\n",
    "    *-------*\n",
    "    \n",
    "    *-------*\n",
    "    \n",
    "    *-------*"
   ]
  },
  {
   "cell_type": "markdown",
   "id": "58100bc9",
   "metadata": {},
   "source": [
    "### <center><font color = 'red'>1. if - elif - elif - .... - else <font/><center/>"
   ]
  },
  {
   "cell_type": "markdown",
   "id": "343228f5",
   "metadata": {},
   "source": [
    "if Condition-1:\n",
    "\n",
    "    *-------*\n",
    "    \n",
    "elif Condition-2\n",
    "    \n",
    "    *-------*\n",
    "    \n",
    "    *-------*\n",
    "    \n",
    "    \n",
    "elif Condition-2\n",
    "\n",
    "    *-------*\n",
    "    \n",
    "    *-------*\n",
    "\n",
    "elif Condition-3\n",
    "\n",
    "    *-------*\n",
    "    \n",
    "    *-------*\n",
    "    \n",
    "else:\n",
    "\n",
    "    *-------*\n",
    "    \n",
    "    *-------*\n",
    "    "
   ]
  },
  {
   "cell_type": "markdown",
   "id": "b78e798e",
   "metadata": {},
   "source": [
    "<font color = 'red'>Example-1 :<font/>\n",
    "    \n",
    "<font color = 'Blue'>Write a program to check in which subject Student failed and with how many marks ? Student Markes collect subject wise from user. Each and Every subject Maximum marks are 100 and pass marks are 35 minimum marks 0. Total number of Subjects are 6, Those are English, Hindi, Mathematics, Science, Social, Public Speaking.<font/>\n",
    "     \n",
    "  "
   ]
  },
  {
   "cell_type": "markdown",
   "id": "485420b0",
   "metadata": {},
   "source": [
    "<font color = 'violet'>Solution: <font/>"
   ]
  },
  {
   "cell_type": "code",
   "execution_count": 33,
   "id": "cb21d613",
   "metadata": {},
   "outputs": [
    {
     "name": "stdout",
     "output_type": "stream",
     "text": [
      "Collecting marks from user :-\n",
      "---------------------------------------------------------------------\n",
      "Please Enter Marks for English : 35\n",
      "Please Enter Marks for Hindi : 35\n",
      "Please Enter Marks for Mathematics : 35\n",
      "Please Enter Marks for Science : 35\n",
      "Please Enter Marks for Social : 35\n",
      "Please Enter Marks for Public Speaking : 35\n",
      "----------------------------------------------------------------------\n",
      "Thanks You provided marks for all the Subjects.\n",
      "----------------------------------------------------------------------\n",
      "In English Subject He got 35 Marks.\n",
      "In Hindi Subject He got 35 Marks.\n",
      "In Mathematics Subject He got 35 Marks.\n",
      "In Science Subject He got 35 Marks.\n",
      "In Social Subject He got 35 Marks.\n",
      "In Public_Speaking Subject He got 35 Marks.\n",
      "----------------------------------------------------------------------\n",
      "Below is your result Subject wise\n",
      "----------------------------------------------------------------------\n"
     ]
    }
   ],
   "source": [
    "# Need to create input variables for each Subject\n",
    "\n",
    "print('Collecting marks from user :-')\n",
    "print(\"---------------------------------------------------------------------\")\n",
    "\n",
    "English_marks =int(input(\"Please Enter Marks for English : \"))\n",
    "Hindi_marks =int(input(\"Please Enter Marks for Hindi : \"))\n",
    "Mathematics_marks =int(input(\"Please Enter Marks for Mathematics : \"))\n",
    "Science_marks =int(input(\"Please Enter Marks for Science : \"))\n",
    "Social_marks =int(input(\"Please Enter Marks for Social : \"))\n",
    "Public_Speaking_marks =int(input(\"Please Enter Marks for Public Speaking : \"))\n",
    "\n",
    "print(\"----------------------------------------------------------------------\")\n",
    "print('Thanks You provided marks for all the Subjects.')\n",
    "print(\"----------------------------------------------------------------------\")\n",
    "\n",
    "\n",
    "subjects = {'English':English_marks,'Hindi':Hindi_marks,'Mathematics':Mathematics_marks,'Science':Science_marks,\n",
    "            'Social':Social_marks,'Public_Speaking':Public_Speaking_marks}\n",
    "\n",
    "pass_marks = 35\n",
    "\n",
    "for key,value in subjects.items():\n",
    "    print(\"In {} Subject He got {} Marks.\".format(key,value))\n",
    "\n",
    "print(\"----------------------------------------------------------------------\")\n",
    "print('Below is your result Subject wise')\n",
    "print(\"----------------------------------------------------------------------\")\n",
    "\n",
    "for key,value in subjects.items():\n",
    "    \n",
    "    if value<35:\n",
    "        print(\"He failed in {} Subject, If he got {} more marks he will pass in {} subject.\".format(key,pass_marks-value,key))\n",
    "    "
   ]
  },
  {
   "cell_type": "code",
   "execution_count": 36,
   "id": "def2f9b4",
   "metadata": {},
   "outputs": [
    {
     "name": "stdout",
     "output_type": "stream",
     "text": [
      "Please enter Student name : skjdfh\n",
      "Please enter Student name : sdfsdfse\n",
      "Please enter Student name : sdfsdfs\n",
      "Please enter Student name : fsdf\n",
      "Please enter Student name : sdfsd\n",
      "Please enter Student name : fs\n",
      "Please enter Student name : f\n",
      "Please enter Student name : sd\n",
      "Please enter Student name : f\n",
      "Please enter Student name : df\n",
      "Please enter Student name : sd\n",
      "Please enter Student name : f\n",
      "Please enter Student name : sd\n",
      "Please enter Student name : f\n",
      "Please enter Student name : sd\n",
      "Please enter Student name : s\n",
      "Please enter Student name : f\n",
      "Please enter Student name : mohan\n",
      "Please enter Student name : Mohan\n",
      "Thanks for providing proper name\n"
     ]
    }
   ],
   "source": [
    "student_name = \"\"\n",
    "\n",
    "while student_name!=\"Mohan\":\n",
    "    student_name = input(\"Please enter Student name : \")\n",
    "    \n",
    "print(\"Thanks for providing proper name\")"
   ]
  },
  {
   "cell_type": "markdown",
   "id": "88ec2b8c",
   "metadata": {},
   "source": [
    "### English"
   ]
  },
  {
   "cell_type": "markdown",
   "id": "f4fd220d",
   "metadata": {},
   "source": [
    "<font color = 'red'>Example-2 :<font/>\n",
    "    \n",
    "<font color = 'Blue'>Write a program to find out the biggest number in 5 numbers. those numbers are inputs provided by the user .<font/>"
   ]
  },
  {
   "cell_type": "code",
   "execution_count": null,
   "id": "9c84b9f5",
   "metadata": {},
   "outputs": [],
   "source": []
  },
  {
   "cell_type": "markdown",
   "id": "f420250f",
   "metadata": {},
   "source": [
    "# <font color = 'red'>2. Looping Statments/ Iterative Statments :<font/>"
   ]
  },
  {
   "cell_type": "markdown",
   "id": "67b4bed7",
   "metadata": {},
   "source": [
    "### <center><font color = 'red'>1. for loop <font/><center/>"
   ]
  },
  {
   "cell_type": "markdown",
   "id": "df791923",
   "metadata": {},
   "source": [
    "**Syntax**\n",
    "\n",
    "for **i** in sequence:\n",
    "\n",
    "    *-----------*\n",
    "    \n",
    "    *-----------*\n",
    "    \n",
    "    *-----------*\n",
    "\n",
    "\n",
    "<font color = 'red'>Note:-  <font/>\n",
    "\n",
    "1. \"i\" is variable it will bring element by element from sequence for each iteration.\n",
    "\n",
    "2. Code inside for loop will run for every element until completion of all elements."
   ]
  },
  {
   "cell_type": "markdown",
   "id": "5a580819",
   "metadata": {},
   "source": [
    "<font color = 'red'> Example - X:<font/>\n",
    "    \n",
    "<font color = 'blue'> Need to write a program to find cube of a number which are provided by user input method, and store those numbers in one list.<font/>\n",
    "    "
   ]
  },
  {
   "cell_type": "markdown",
   "id": "4d3b5a5d",
   "metadata": {},
   "source": [
    "<font color = 'violet'>Solution: <font/>"
   ]
  },
  {
   "cell_type": "code",
   "execution_count": 11,
   "id": "9636d7fe",
   "metadata": {},
   "outputs": [
    {
     "name": "stdout",
     "output_type": "stream",
     "text": [
      "Please Enter the sequence odf numbers : 1,2,3,4,5,6,7,8,9,10\n",
      "[1, 8, 27, 64, 125, 216, 343, 512, 729, 1000]\n"
     ]
    }
   ],
   "source": [
    "\n",
    "# Need to create a input variable which can take sequence of elements\n",
    "\n",
    "input_numbers = eval(input(\"Please Enter the sequence odf numbers : \"))\n",
    "\n",
    "# Need to fetch each elment in given sequence from start to end one by one\n",
    "\n",
    "cubes_list = []\n",
    "\n",
    "for i in input_numbers:    \n",
    "    \n",
    "# Need to calculate cube of a number \n",
    "    cube_calculation = i**3\n",
    "    \n",
    "# Need to define an empty list Which will be used to store cube of input numbers\n",
    "    cubes_list.append(cube_calculation)\n",
    "    \n",
    "# Exit from the loop and print the list which contains all the cubes of numbers\n",
    "print(cubes_list)"
   ]
  },
  {
   "cell_type": "markdown",
   "id": "3ae538e5",
   "metadata": {},
   "source": [
    "### <center><font color = 'red'>1. While Loop <font/><center/>"
   ]
  },
  {
   "cell_type": "markdown",
   "id": "7b22da30",
   "metadata": {},
   "source": [
    "- If we want to execute an operation/ task iteratively or repitedly until some condition false then we need to use While loop"
   ]
  },
  {
   "cell_type": "markdown",
   "id": "8a47eab1",
   "metadata": {},
   "source": [
    "**Syntax**\n",
    "\n",
    "While **i** Condition:\n",
    "\n",
    "    *-----------*\n",
    "    \n",
    "    *-----------*\n",
    "    \n",
    "    *-----------*\n"
   ]
  },
  {
   "cell_type": "code",
   "execution_count": null,
   "id": "2a1c5fbc",
   "metadata": {},
   "outputs": [],
   "source": []
  },
  {
   "cell_type": "markdown",
   "id": "58a9f849",
   "metadata": {},
   "source": [
    "<font color ='red'>Example -3 : <font/>\n",
    "\n",
    "By accepting dynamic list of numbers need to check those are divisible wrt  3,5,7,9 and after identifying those numbers store in seperate list for each and every category and print the final lists and their lengths."
   ]
  },
  {
   "cell_type": "markdown",
   "id": "6e932942",
   "metadata": {},
   "source": [
    "<font color ='red'>Solution:<font/>"
   ]
  },
  {
   "cell_type": "code",
   "execution_count": 18,
   "id": "4c4a9d23",
   "metadata": {},
   "outputs": [
    {
     "name": "stdout",
     "output_type": "stream",
     "text": [
      " Please Enter the Sequence of elments : 1,2,3,4,5,6,7,8,9,10,15,20,30\n",
      "Length of list 5 : Elements in the list: [3, 6, 9, 15, 30]\n",
      "Length of list 5 : Elements in the list: [5, 10, 15, 20, 30]\n",
      "Length of list 1 : Elements in the list: [7]\n",
      "Length of list 1 : Elements in the list: [9]\n",
      "Length of list 2 : Elements in the list: [15, 30]\n"
     ]
    }
   ],
   "source": [
    "# Creating input variable which can able to accept list of numbers\n",
    "\n",
    "a_input = eval(input(\" Please Enter the Sequence of elments : \"))\n",
    "\n",
    "\n",
    "# Creating empty list to save the elements based on their divisibility.\n",
    "\n",
    "list_div_3 =[]\n",
    "list_div_5 =[]\n",
    "list_div_7 =[]\n",
    "list_div_9 =[]\n",
    "list_div_3_5=[]\n",
    "\n",
    "# Identify the divisibility\n",
    "for i in a_input:\n",
    "    \n",
    "    if i % 3 == 0:\n",
    "        list_div_3.append(i)\n",
    "        #print(list_div_3)\n",
    "        \n",
    "    if i % 5 == 0:\n",
    "        list_div_5.append(i)\n",
    "        #print(list_div_5)\n",
    "        \n",
    "    if i % 7 == 0:\n",
    "        list_div_7.append(i)\n",
    "        #print(list_div_7)\n",
    "    if i % 9 == 0:\n",
    "        list_div_9.append(i)\n",
    "        #print(list_div_9)\n",
    "        \n",
    "    if i%3==0 and i%5 ==0:\n",
    "        list_div_3_5.append(i)\n",
    "        \n",
    "\n",
    "for result in [list_div_3,list_div_5,list_div_7,list_div_9,list_div_3_5]:\n",
    "    print(\"Length of list {} : Elements in the list: {}\".format(len(result),result))"
   ]
  },
  {
   "cell_type": "markdown",
   "id": "f547d5e0",
   "metadata": {},
   "source": [
    "<font color = 'red'>Example-4 :<font/>\n",
    "    \n",
    "<font color = 'Blue'>Write a program to check in which subject Student failed and with how many marks ? Student Markes collect subject wise from user. Each and Every subject Maximum marks are 100 and pass marks are 35 minimum marks 0. Total number of Subjects are 6, Those are English, Hindi, Mathematics, Science, Social, Public Speaking.<font/>\n",
    "    \n",
    "<font color = 'Green'> Additional Instructions :<font/>\n",
    "    \n",
    "    1. Program not allowed to accept grater than 100 and less than Zero marks it need to ask for input until you provide valid marks.\n",
    "    \n",
    "    2. Calculate the percentage of marks student gained in Exam and assign respective grade. Grades are like below criteria\n",
    "    \n",
    "       A+ = 90% or above\n",
    "        \n",
    "       A  = 75% or above\n",
    "    \n",
    "       B  = 60% or Above\n",
    "    \n",
    "       c  = 50% or above\n",
    "       \n",
    "       d  = 35% or above\n",
    "    \n",
    "       \"Failed category\" if any student failed in any subject he should be in this category. how many marks he gained in remining subjects is not a matter.\n",
    "    \n",
    "      \n",
    "    \n",
    "\n",
    "     "
   ]
  },
  {
   "cell_type": "markdown",
   "id": "c5ce0a2a",
   "metadata": {},
   "source": [
    "<font color = 'Violet'>Solution  :<font/>"
   ]
  },
  {
   "cell_type": "code",
   "execution_count": null,
   "id": "5008e87c",
   "metadata": {},
   "outputs": [],
   "source": []
  },
  {
   "cell_type": "markdown",
   "id": "9241c4bb",
   "metadata": {},
   "source": [
    "# While Loop"
   ]
  },
  {
   "cell_type": "code",
   "execution_count": 14,
   "id": "504d0fc2",
   "metadata": {},
   "outputs": [
    {
     "name": "stdout",
     "output_type": "stream",
     "text": [
      "1\n",
      "2\n",
      "2\n",
      "3\n",
      "3\n",
      "4\n",
      "4\n",
      "5\n",
      "5\n",
      "6\n",
      "6\n",
      "7\n",
      "7\n",
      "8\n",
      "8\n",
      "9\n",
      "9\n",
      "10\n",
      "10\n",
      "11\n"
     ]
    }
   ],
   "source": [
    "i = 1\n",
    "while i <=10:\n",
    "    print(i)\n",
    "    i +=1\n",
    "    print(i)"
   ]
  },
  {
   "cell_type": "code",
   "execution_count": 15,
   "id": "a7f9a604",
   "metadata": {},
   "outputs": [],
   "source": [
    "# You need to give input as \"Your Name\". If you dint provide your name it need to ask continouesly until you provide your name"
   ]
  },
  {
   "cell_type": "code",
   "execution_count": 24,
   "id": "a3629c00",
   "metadata": {},
   "outputs": [
    {
     "name": "stdout",
     "output_type": "stream",
     "text": [
      "Please Enter Proper marks : -1\n"
     ]
    }
   ],
   "source": [
    "i = 0\n",
    "\n",
    "while (i<=100 and i>=0):\n",
    "    \n",
    "    i = int(input(\"Please Enter Proper marks : \"))"
   ]
  },
  {
   "cell_type": "code",
   "execution_count": 19,
   "id": "3286444b",
   "metadata": {},
   "outputs": [
    {
     "data": {
      "text/plain": [
       "5555"
      ]
     },
     "execution_count": 19,
     "metadata": {},
     "output_type": "execute_result"
    }
   ],
   "source": [
    "value gtrater than 100  not allowed \n",
    "value less than 0 not allowed"
   ]
  },
  {
   "cell_type": "code",
   "execution_count": null,
   "id": "0cf64d85",
   "metadata": {},
   "outputs": [],
   "source": []
  },
  {
   "cell_type": "markdown",
   "id": "8607762f",
   "metadata": {},
   "source": [
    "# While loop"
   ]
  },
  {
   "cell_type": "code",
   "execution_count": 16,
   "id": "d60a8374",
   "metadata": {},
   "outputs": [
    {
     "name": "stdout",
     "output_type": "stream",
     "text": [
      "Please Enter Marks in English : 0\n",
      "Please Enter Marks in English : 0\n",
      "Please Enter Marks in English : 1\n",
      "Please Enter Marks in English : 1\n",
      "Please Enter Marks in English : -1\n",
      "Thanks for your Input Marks English Subject Subject : -1\n"
     ]
    }
   ],
   "source": [
    "English_Marks = 0\n",
    "\n",
    "while English_Marks>=0:\n",
    "# (Englis_Marks>=0 and Englis_Marks<=100):\n",
    "    \n",
    "    English_Marks = int(input(\"Please Enter Marks in English : \"))\n",
    "\n",
    "print(\"Thanks for your Input Marks {} Subject : {}\".format(\"English Subject\",English_Marks ))\n",
    "    "
   ]
  },
  {
   "cell_type": "code",
   "execution_count": 22,
   "id": "ec699827",
   "metadata": {},
   "outputs": [
    {
     "name": "stdout",
     "output_type": "stream",
     "text": [
      "Please Enter Marks in English : -1\n",
      "Invalid input please Try again\n",
      "Please Enter Marks in English : -1\n",
      "Invalid input please Try again\n",
      "Please Enter Marks in English : -3\n",
      "Invalid input please Try again\n",
      "Please Enter Marks in English : 101\n",
      "Invalid input please Try again\n",
      "Please Enter Marks in English : 345\n",
      "Invalid input please Try again\n",
      "Please Enter Marks in English : 567456\n",
      "Invalid input please Try again\n",
      "Please Enter Marks in English : 123\n",
      "Invalid input please Try again\n",
      "Please Enter Marks in English : 99\n",
      "99\n"
     ]
    }
   ],
   "source": [
    "while True:\n",
    "    English_Marks = int(input(\"Please Enter Marks in English : \"))\n",
    "    \n",
    "    if English_Marks>=0 and English_Marks<=100:\n",
    "        \n",
    "        print(English_Marks)\n",
    "        \n",
    "        break\n",
    "        \n",
    "    else:\n",
    "        print(\"Invalid input please Try again\")\n",
    "    "
   ]
  },
  {
   "cell_type": "code",
   "execution_count": 23,
   "id": "1aacb8d4",
   "metadata": {},
   "outputs": [
    {
     "data": {
      "text/plain": [
       "99"
      ]
     },
     "execution_count": 23,
     "metadata": {},
     "output_type": "execute_result"
    }
   ],
   "source": [
    "English_Marks"
   ]
  },
  {
   "cell_type": "code",
   "execution_count": 36,
   "id": "56b79d50",
   "metadata": {},
   "outputs": [],
   "source": [
    "English,Mathematics,Science,Social,Hindi,Public_Speaking_marks= 0,0,0,0,0,0"
   ]
  },
  {
   "cell_type": "code",
   "execution_count": 37,
   "id": "0d108701",
   "metadata": {},
   "outputs": [
    {
     "name": "stdout",
     "output_type": "stream",
     "text": [
      "please enter 0 marks:12\n",
      "please enter 0 marks:12\n",
      "please enter 0 marks:34\n",
      "please enter 0 marks:45\n",
      "please enter 0 marks:56\n",
      "please enter 0 marks:8\n"
     ]
    }
   ],
   "source": [
    "subjects = [English,Mathematics,Science,Social,Hindi,Public_Speaking_marks]\n",
    "\n",
    "for i in subjects:\n",
    "    i=int(input('please enter {} marks:'.format(i)))\n",
    "    while i<=0 or i>=100:\n",
    "        i=int(input('please enter correct marks:'))"
   ]
  },
  {
   "cell_type": "code",
   "execution_count": 35,
   "id": "1a5eefd5",
   "metadata": {},
   "outputs": [
    {
     "ename": "NameError",
     "evalue": "name 'English' is not defined",
     "output_type": "error",
     "traceback": [
      "\u001b[1;31m---------------------------------------------------------------------------\u001b[0m",
      "\u001b[1;31mNameError\u001b[0m                                 Traceback (most recent call last)",
      "\u001b[1;32m~\\AppData\\Local\\Temp/ipykernel_19252/3817211201.py\u001b[0m in \u001b[0;36m<module>\u001b[1;34m\u001b[0m\n\u001b[1;32m----> 1\u001b[1;33m \u001b[0mEnglish\u001b[0m\u001b[1;33m\u001b[0m\u001b[1;33m\u001b[0m\u001b[0m\n\u001b[0m",
      "\u001b[1;31mNameError\u001b[0m: name 'English' is not defined"
     ]
    }
   ],
   "source": [
    "English"
   ]
  },
  {
   "cell_type": "code",
   "execution_count": null,
   "id": "ed459fc6",
   "metadata": {},
   "outputs": [],
   "source": []
  },
  {
   "cell_type": "code",
   "execution_count": 38,
   "id": "5233fb2f",
   "metadata": {},
   "outputs": [
    {
     "name": "stdout",
     "output_type": "stream",
     "text": [
      "please enter 0 marks:12\n",
      "please enter 0 marks:34\n",
      "please enter 0 marks:56\n",
      "please enter 0 marks:78\n",
      "please enter 0 marks:99\n",
      "please enter 0 marks:101\n",
      "please enter correct marks:45\n",
      "he failed in english, if he got 35 more marks he will pass in english subject\n",
      "he failed in hindi, if he got 35 more marks he will pass in hindi subject\n",
      "he failed in mathematics, if he got 35 more marks he will pass in mathematics subject\n",
      "he failed in science, if he got 35 more marks he will pass in science subject\n",
      "he failed in social, if he got 35 more marks he will pass in social subject\n",
      "he failed in public_speaking, if he got 35 more marks he will pass in public_speaking subject\n"
     ]
    }
   ],
   "source": [
    "English,Mathematics,Science,Social,Hindi,Public_Speaking_marks= 0,0,0,0,0,0\n",
    "\n",
    "subjects = [English,Mathematics,Science,Social,Hindi,Public_Speaking_marks]\n",
    "\n",
    "for i in subjects:\n",
    "    i=int(input('please enter {} marks:'.format(i)))\n",
    "    while i<=0 or i>=100:\n",
    "        i=int(input('please enter correct marks:'))\n",
    "        \n",
    "subjects={'english':English,'hindi':Hindi,'mathematics':Mathematics,\n",
    "          'science':Science,'social':Social,'public_speaking':Public_Speaking_marks}\n",
    "\n",
    "pass_marks=35\n",
    "))\n",
    "for key, value in subjects.items():\n",
    "    if value<35:\n",
    "        print('he failed in {}, if he got {} more marks he will pass in {} subject'.format(key,pass_marks-value,key"
   ]
  },
  {
   "cell_type": "code",
   "execution_count": 39,
   "id": "5c83965c",
   "metadata": {},
   "outputs": [
    {
     "data": {
      "text/plain": [
       "0"
      ]
     },
     "execution_count": 39,
     "metadata": {},
     "output_type": "execute_result"
    }
   ],
   "source": [
    "English"
   ]
  },
  {
   "cell_type": "markdown",
   "id": "474ee180",
   "metadata": {},
   "source": [
    "##### english_marks=int(input('please enter english marks:'))\n",
    "while english_marks<=0 or english_marks>=100:\n",
    "    english_marks=int(input('please enter correct marks:'))"
   ]
  },
  {
   "cell_type": "code",
   "execution_count": 24,
   "id": "0785a3c3",
   "metadata": {},
   "outputs": [
    {
     "name": "stdout",
     "output_type": "stream",
     "text": [
      "please enter english marks:-1\n",
      "please enter correct marks:1\n",
      "please enter hindi marks:98\n",
      "please enter mathematics marks:09\n",
      "please enter science marks:78\n",
      "please enter social marks:101\n",
      "please enter correct marks:101\n",
      "please enter correct marks:0\n",
      "please enter correct marks:897\n",
      "please enter correct marks:88\n",
      "please enter public_speaking marks:100\n",
      "please enter correct marks:100\n",
      "please enter correct marks:99\n",
      "------------------------------------------------------------------\n",
      "he failed in english, if he got 34 more marks he will pass in english subject\n",
      "he failed in mathematics, if he got 26 more marks he will pass in mathematics subject\n"
     ]
    }
   ],
   "source": [
    "english_marks=int(input('please enter english marks:'))\n",
    "while english_marks<=0 or english_marks>=100:\n",
    "    english_marks=int(input('please enter correct marks:'))\n",
    "    \n",
    "    \n",
    "hindi_marks=int(input('please enter hindi marks:'))\n",
    "while hindi_marks<=0 or hindi_marks>=100:\n",
    "    hindi_marks=int(input('please enter correct marks:'))\n",
    "    \n",
    "mathematics_marks=int(input('please enter mathematics marks:'))\n",
    "while mathematics_marks<=0 or mathematics_marks>=100:\n",
    "    mathematics_marks=int(input('please enter correct marks:'))\n",
    "    \n",
    "science_marks=int(input('please enter science marks:'))\n",
    "while science_marks<=0 or science_marks>=100:\n",
    "    science_marks=int(input('please enter correct marks:'))\n",
    "    \n",
    "social_marks=int(input('please enter social marks:'))\n",
    "while social_marks<=0 or social_marks>=100:\n",
    "    social_marks=int(input('please enter correct marks:'))\n",
    "    \n",
    "public_speaking_marks=int(input('please enter public_speaking marks:'))\n",
    "while public_speaking_marks<=0 or public_speaking_marks>=100:\n",
    "    public_speaking_marks=int(input('please enter correct marks:'))\n",
    "    \n",
    "    \n",
    "print('------------------------------------------------------------------')   \n",
    "\n",
    "subjects={'english':english_marks,'hindi':hindi_marks,'mathematics':mathematics_marks,\n",
    "          'science':science_marks,'social':social_marks,'public_speaking':public_speaking_marks}\n",
    "\n",
    "pass_marks=35\n",
    "\n",
    "for key, value in subjects.items():\n",
    "    if value<35:\n",
    "        print('he failed in {}, if he got {} more marks he will pass in {} subject'.format(key,pass_marks-value,key))"
   ]
  },
  {
   "cell_type": "markdown",
   "id": "8b6b8144",
   "metadata": {},
   "source": [
    "# break"
   ]
  },
  {
   "cell_type": "code",
   "execution_count": 40,
   "id": "70cd38c2",
   "metadata": {},
   "outputs": [
    {
     "data": {
      "text/plain": [
       "range(0, 10)"
      ]
     },
     "execution_count": 40,
     "metadata": {},
     "output_type": "execute_result"
    }
   ],
   "source": [
    "range(10)"
   ]
  },
  {
   "cell_type": "code",
   "execution_count": 41,
   "id": "f480e088",
   "metadata": {},
   "outputs": [
    {
     "data": {
      "text/plain": [
       "range(1, 11)"
      ]
     },
     "execution_count": 41,
     "metadata": {},
     "output_type": "execute_result"
    }
   ],
   "source": [
    "range(1,11)"
   ]
  },
  {
   "cell_type": "code",
   "execution_count": 42,
   "id": "8523a0bf",
   "metadata": {},
   "outputs": [
    {
     "name": "stdout",
     "output_type": "stream",
     "text": [
      "range(0, 10)\n"
     ]
    }
   ],
   "source": [
    "print(range(10))"
   ]
  },
  {
   "cell_type": "code",
   "execution_count": 48,
   "id": "4e6a6dd7",
   "metadata": {},
   "outputs": [
    {
     "ename": "TypeError",
     "evalue": "'type' object is not iterable",
     "output_type": "error",
     "traceback": [
      "\u001b[1;31m---------------------------------------------------------------------------\u001b[0m",
      "\u001b[1;31mTypeError\u001b[0m                                 Traceback (most recent call last)",
      "\u001b[1;32m~\\AppData\\Local\\Temp/ipykernel_19252/3190860644.py\u001b[0m in \u001b[0;36m<module>\u001b[1;34m\u001b[0m\n\u001b[0;32m      1\u001b[0m \u001b[0mrange\u001b[0m\u001b[1;33m(\u001b[0m\u001b[1;36m1\u001b[0m\u001b[1;33m,\u001b[0m\u001b[1;36m20\u001b[0m\u001b[1;33m)\u001b[0m\u001b[1;33m\u001b[0m\u001b[1;33m\u001b[0m\u001b[0m\n\u001b[1;32m----> 2\u001b[1;33m \u001b[1;32mfor\u001b[0m \u001b[0mi\u001b[0m \u001b[1;32min\u001b[0m \u001b[0mrange\u001b[0m \u001b[1;33m:\u001b[0m\u001b[1;33m\u001b[0m\u001b[1;33m\u001b[0m\u001b[0m\n\u001b[0m\u001b[0;32m      3\u001b[0m     \u001b[0mprint\u001b[0m\u001b[1;33m(\u001b[0m\u001b[0mi\u001b[0m\u001b[1;33m)\u001b[0m\u001b[1;33m\u001b[0m\u001b[1;33m\u001b[0m\u001b[0m\n",
      "\u001b[1;31mTypeError\u001b[0m: 'type' object is not iterable"
     ]
    }
   ],
   "source": [
    "range(1,20)\n",
    "for i in range :\n",
    "    print(i)"
   ]
  },
  {
   "cell_type": "code",
   "execution_count": 47,
   "id": "599ecf43",
   "metadata": {},
   "outputs": [
    {
     "name": "stdout",
     "output_type": "stream",
     "text": [
      "1\n",
      "2\n",
      "3\n",
      "4\n",
      "5\n",
      "6\n",
      "7\n",
      "8\n",
      "9\n"
     ]
    }
   ],
   "source": [
    "b = range(1,10)\n",
    "\n",
    "for i in b:\n",
    "    print(i)"
   ]
  },
  {
   "cell_type": "code",
   "execution_count": 49,
   "id": "acd8b173",
   "metadata": {},
   "outputs": [
    {
     "name": "stdout",
     "output_type": "stream",
     "text": [
      "1\n",
      "2\n",
      "You are my luckky number\n"
     ]
    }
   ],
   "source": [
    "b = range(1,10)\n",
    "\n",
    "for i in b:\n",
    "    if i ==3:\n",
    "        print(\"You are my luckky number\")\n",
    "        break\n",
    "        \n",
    "    print(i)"
   ]
  },
  {
   "cell_type": "code",
   "execution_count": null,
   "id": "27cf78bf",
   "metadata": {},
   "outputs": [],
   "source": [
    "i = 1\n",
    "\n",
    "1 !=3\n",
    "\n",
    "print(i)\n",
    "---------------\n",
    "i = 2\n",
    "\n",
    "2!=3\n",
    "print(i)\n",
    "------------------\n",
    "i = 3\n",
    "\n",
    "3 ==3\n",
    "\"You are my luckky number\"\n",
    "\n",
    ".\n"
   ]
  },
  {
   "cell_type": "code",
   "execution_count": 52,
   "id": "85c9f758",
   "metadata": {},
   "outputs": [
    {
     "name": "stdout",
     "output_type": "stream",
     "text": [
      "You are my luckky number\n"
     ]
    }
   ],
   "source": [
    "b = range(1,10)\n",
    "\n",
    "for i in b:\n",
    "    if i ==3:\n",
    "        print(\"You are my luckky number\")"
   ]
  },
  {
   "cell_type": "code",
   "execution_count": 50,
   "id": "5d8fc12e",
   "metadata": {},
   "outputs": [
    {
     "name": "stdout",
     "output_type": "stream",
     "text": [
      "1\n",
      "2\n",
      "You are my luckky number\n",
      "4\n",
      "5\n",
      "6\n",
      "7\n",
      "8\n",
      "9\n"
     ]
    }
   ],
   "source": [
    "b = range(1,10)\n",
    "\n",
    "for i in b:\n",
    "    if i ==3:\n",
    "        print(\"You are my luckky number\")\n",
    "    else:\n",
    "        print(i)"
   ]
  },
  {
   "cell_type": "markdown",
   "id": "456f0b5c",
   "metadata": {},
   "source": [
    "# continue"
   ]
  },
  {
   "cell_type": "code",
   "execution_count": 56,
   "id": "d94a7ef2",
   "metadata": {},
   "outputs": [
    {
     "name": "stdout",
     "output_type": "stream",
     "text": [
      "You are my luckky number\n",
      "3\n"
     ]
    }
   ],
   "source": [
    "b = range(1,10)\n",
    "\n",
    "for i in b:\n",
    "    if i ==3:\n",
    "        print(\"You are my luckky number\")\n",
    "        print(i)\n",
    "        continue    \n",
    "        "
   ]
  },
  {
   "cell_type": "code",
   "execution_count": 54,
   "id": "0ad33cfa",
   "metadata": {},
   "outputs": [
    {
     "name": "stdout",
     "output_type": "stream",
     "text": [
      "1\n",
      "You are my luckky number\n",
      "3\n",
      "You are my luckky number\n",
      "5\n",
      "You are my luckky number\n",
      "7\n",
      "You are my luckky number\n",
      "9\n"
     ]
    }
   ],
   "source": [
    "b = range(1,10)\n",
    "\n",
    "for i in b:\n",
    "    if i%2==0:\n",
    "        print(\"You are my luckky number\")\n",
    "        continue    \n",
    "    print(i)"
   ]
  },
  {
   "cell_type": "code",
   "execution_count": 57,
   "id": "917f04fd",
   "metadata": {},
   "outputs": [
    {
     "name": "stdout",
     "output_type": "stream",
     "text": [
      "Waste 10\n",
      "Waste 30\n",
      "50\n",
      "70\n",
      "90\n",
      "99\n"
     ]
    }
   ],
   "source": [
    "m = [10,30,50,70,90,99]\n",
    "\n",
    "for i in m:\n",
    "    if i <50:\n",
    "        print(\"Waste\",i)\n",
    "        continue\n",
    "    print(i)"
   ]
  },
  {
   "cell_type": "code",
   "execution_count": 58,
   "id": "9ef105e1",
   "metadata": {},
   "outputs": [
    {
     "name": "stdout",
     "output_type": "stream",
     "text": [
      "Waste 10\n"
     ]
    }
   ],
   "source": [
    "m = [10,30,50,70,90,99]\n",
    "\n",
    "for i in m:\n",
    "    if i <50:\n",
    "        print(\"Waste\",i)\n",
    "        break\n",
    "    print(i)"
   ]
  },
  {
   "cell_type": "markdown",
   "id": "d9ed326c",
   "metadata": {},
   "source": [
    "# pass"
   ]
  },
  {
   "cell_type": "code",
   "execution_count": 59,
   "id": "be4cef1f",
   "metadata": {},
   "outputs": [],
   "source": [
    "if True: pass"
   ]
  },
  {
   "cell_type": "code",
   "execution_count": 62,
   "id": "07b7a854",
   "metadata": {},
   "outputs": [
    {
     "name": "stdout",
     "output_type": "stream",
     "text": [
      "10\n"
     ]
    }
   ],
   "source": [
    "a = 5\n",
    "b = 5\n",
    "if a>10: pass\n",
    "\n",
    "print(a+b)\n"
   ]
  },
  {
   "cell_type": "code",
   "execution_count": null,
   "id": "a65f96c3",
   "metadata": {},
   "outputs": [],
   "source": [
    "1 + 0 0\n",
    "\n",
    "12 *1 1"
   ]
  },
  {
   "cell_type": "code",
   "execution_count": 64,
   "id": "f5c9f534",
   "metadata": {},
   "outputs": [
    {
     "name": "stdout",
     "output_type": "stream",
     "text": [
      "1\n",
      "good\n"
     ]
    }
   ],
   "source": [
    "b=range(1,10)\n",
    "for i in b:\n",
    "    if i>1 and i<5:\n",
    "        print(\"good\")\n",
    "        break\n",
    "    print(i)"
   ]
  },
  {
   "cell_type": "code",
   "execution_count": 65,
   "id": "6035aee5",
   "metadata": {},
   "outputs": [
    {
     "name": "stdout",
     "output_type": "stream",
     "text": [
      "1\n",
      "good\n",
      "good\n",
      "good\n",
      "5\n",
      "6\n",
      "7\n",
      "8\n",
      "9\n"
     ]
    }
   ],
   "source": [
    "b=range(1,10)\n",
    "for i in b:\n",
    "    if i>1 and i<5:\n",
    "        print(\"good\")\n",
    "        continue\n",
    "    print(i)"
   ]
  },
  {
   "cell_type": "code",
   "execution_count": 66,
   "id": "ab15c97f",
   "metadata": {},
   "outputs": [
    {
     "data": {
      "text/plain": [
       "'\\nsadhfasdfjkasdf\\nasdf\\nasdf\\nasdf\\nasdfasd\\nf\\n'"
      ]
     },
     "execution_count": 66,
     "metadata": {},
     "output_type": "execute_result"
    }
   ],
   "source": [
    "\"\"\"\n",
    "sadhfasdfjkasdf\n",
    "asdf\n",
    "asdf\n",
    "asdf\n",
    "asdfasd\n",
    "f\n",
    "\"\"\""
   ]
  },
  {
   "cell_type": "code",
   "execution_count": 67,
   "id": "70f62ba6",
   "metadata": {},
   "outputs": [
    {
     "data": {
      "text/plain": [
       "'kjasghhjaklsgdf\\nasfasdf\\nasdf\\nasdf\\nasdf\\nasd\\nfasd\\n'"
      ]
     },
     "execution_count": 67,
     "metadata": {},
     "output_type": "execute_result"
    }
   ],
   "source": [
    "'''kjasghhjaklsgdf\n",
    "asfasdf\n",
    "asdf\n",
    "asdf\n",
    "asdf\n",
    "asd\n",
    "fasd\n",
    "'''"
   ]
  },
  {
   "cell_type": "code",
   "execution_count": null,
   "id": "d61b8d44",
   "metadata": {},
   "outputs": [],
   "source": []
  }
 ],
 "metadata": {
  "kernelspec": {
   "display_name": "Python 3 (ipykernel)",
   "language": "python",
   "name": "python3"
  },
  "language_info": {
   "codemirror_mode": {
    "name": "ipython",
    "version": 3
   },
   "file_extension": ".py",
   "mimetype": "text/x-python",
   "name": "python",
   "nbconvert_exporter": "python",
   "pygments_lexer": "ipython3",
   "version": "3.9.7"
  }
 },
 "nbformat": 4,
 "nbformat_minor": 5
}
