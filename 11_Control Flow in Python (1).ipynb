{
 "cells": [
  {
   "cell_type": "code",
   "execution_count": 1,
   "id": "f6b2372e",
   "metadata": {},
   "outputs": [],
   "source": [
    "# Assigning the values\n",
    "\n",
    "a = 10\n",
    "\n",
    "b = 19\n",
    "\n",
    "if a>b:\n",
    "    print(\"a is big\")"
   ]
  },
  {
   "cell_type": "code",
   "execution_count": 2,
   "id": "24434835",
   "metadata": {},
   "outputs": [
    {
     "name": "stdout",
     "output_type": "stream",
     "text": [
      "a is big\n"
     ]
    }
   ],
   "source": [
    "# Assigning the values\n",
    "\n",
    "a = 112\n",
    "\n",
    "b = 19\n",
    "\n",
    "if a>b:\n",
    "    print(\"a is big\")"
   ]
  },
  {
   "cell_type": "code",
   "execution_count": 3,
   "id": "49568766",
   "metadata": {},
   "outputs": [
    {
     "name": "stdout",
     "output_type": "stream",
     "text": [
      "a is big\n"
     ]
    }
   ],
   "source": [
    "# Assigning the values\n",
    "\n",
    "a = 112\n",
    "\n",
    "b = 19\n",
    "\n",
    "if b<a:\n",
    "    print(\"a is big\")"
   ]
  },
  {
   "cell_type": "code",
   "execution_count": 4,
   "id": "52ea44c3",
   "metadata": {},
   "outputs": [],
   "source": [
    "# Assigning the values\n",
    "\n",
    "a = 112\n",
    "\n",
    "b = 192\n",
    "\n",
    "if b<a:\n",
    "    print(\"a is big\")\n"
   ]
  },
  {
   "cell_type": "code",
   "execution_count": 5,
   "id": "b6828769",
   "metadata": {},
   "outputs": [
    {
     "name": "stdout",
     "output_type": "stream",
     "text": [
      "b is big\n"
     ]
    }
   ],
   "source": [
    "# Assigning the values\n",
    "\n",
    "a = 112\n",
    "\n",
    "b = 192\n",
    "\n",
    "if b<a:\n",
    "    print(\"a is big\")\n",
    "else:\n",
    "    print(\"b is big\")"
   ]
  },
  {
   "cell_type": "code",
   "execution_count": 6,
   "id": "6a295e17",
   "metadata": {},
   "outputs": [
    {
     "name": "stdout",
     "output_type": "stream",
     "text": [
      "a is big\n"
     ]
    }
   ],
   "source": [
    "# Assigning the values\n",
    "\n",
    "a = 1122\n",
    "\n",
    "b = 192\n",
    "\n",
    "if b<a:\n",
    "    print(\"a is big\")\n",
    "else:\n",
    "    print(\"b is big\")"
   ]
  },
  {
   "cell_type": "code",
   "execution_count": 10,
   "id": "5e12008b",
   "metadata": {},
   "outputs": [
    {
     "name": "stdout",
     "output_type": "stream",
     "text": [
      "b is big\n"
     ]
    }
   ],
   "source": [
    "# Assigning the values\n",
    "\n",
    "a = 11\n",
    "\n",
    "b = 11\n",
    "\n",
    "if b<a:\n",
    "    print(\"a is big\")\n",
    "else:\n",
    "    print(\"b is big\")"
   ]
  },
  {
   "cell_type": "code",
   "execution_count": 14,
   "id": "6db95a95",
   "metadata": {},
   "outputs": [
    {
     "name": "stdout",
     "output_type": "stream",
     "text": [
      "b is big\n"
     ]
    }
   ],
   "source": [
    "# Assigning the values\n",
    "\n",
    "a = 23\n",
    "\n",
    "b = 45\n",
    "\n",
    "if b<a:\n",
    "    print(\"a is big\")\n",
    "    \n",
    "elif a==b:\n",
    "    print(\"a and b are equal\")\n",
    "    \n",
    "else:\n",
    "    print(\"b is big\")"
   ]
  },
  {
   "cell_type": "code",
   "execution_count": 17,
   "id": "f9814933",
   "metadata": {},
   "outputs": [
    {
     "name": "stdout",
     "output_type": "stream",
     "text": [
      " Please Enter the number : 876\n",
      " Please Enter the number : jhj\n",
      "b is big\n"
     ]
    }
   ],
   "source": [
    "# To take dynamic input\n",
    "# String,int,float,bool\n",
    "\n",
    "a = input(\" Please Enter the number : \")\n",
    "\n",
    "b = input(\" Please Enter the number : \")\n",
    "\n",
    "if b<a:\n",
    "    print(\"a is big\")\n",
    "    \n",
    "elif a==b:\n",
    "    print(\"a and b are equal\")\n",
    "    \n",
    "else:\n",
    "    print(\"b is big\")"
   ]
  },
  {
   "cell_type": "code",
   "execution_count": 18,
   "id": "1a5ab1f9",
   "metadata": {},
   "outputs": [
    {
     "data": {
      "text/plain": [
       "str"
      ]
     },
     "execution_count": 18,
     "metadata": {},
     "output_type": "execute_result"
    }
   ],
   "source": [
    " type(a)"
   ]
  },
  {
   "cell_type": "code",
   "execution_count": 19,
   "id": "cb91f695",
   "metadata": {},
   "outputs": [
    {
     "data": {
      "text/plain": [
       "str"
      ]
     },
     "execution_count": 19,
     "metadata": {},
     "output_type": "execute_result"
    }
   ],
   "source": [
    "type(b)"
   ]
  },
  {
   "cell_type": "code",
   "execution_count": 20,
   "id": "ee983fd6",
   "metadata": {},
   "outputs": [
    {
     "name": "stdout",
     "output_type": "stream",
     "text": [
      " Please Enter the number : 123\n",
      " Please Enter the number : dssfd\n"
     ]
    },
    {
     "ename": "ValueError",
     "evalue": "invalid literal for int() with base 10: 'dssfd'",
     "output_type": "error",
     "traceback": [
      "\u001b[1;31m---------------------------------------------------------------------------\u001b[0m",
      "\u001b[1;31mValueError\u001b[0m                                Traceback (most recent call last)",
      "\u001b[1;32m~\\AppData\\Local\\Temp/ipykernel_3524/511643072.py\u001b[0m in \u001b[0;36m<module>\u001b[1;34m\u001b[0m\n\u001b[0;32m      5\u001b[0m \u001b[0ma\u001b[0m \u001b[1;33m=\u001b[0m \u001b[0mint\u001b[0m\u001b[1;33m(\u001b[0m\u001b[0minput\u001b[0m\u001b[1;33m(\u001b[0m\u001b[1;34m\" Please Enter the number : \"\u001b[0m\u001b[1;33m)\u001b[0m\u001b[1;33m)\u001b[0m\u001b[1;33m\u001b[0m\u001b[1;33m\u001b[0m\u001b[0m\n\u001b[0;32m      6\u001b[0m \u001b[1;33m\u001b[0m\u001b[0m\n\u001b[1;32m----> 7\u001b[1;33m \u001b[0mb\u001b[0m \u001b[1;33m=\u001b[0m \u001b[0mint\u001b[0m\u001b[1;33m(\u001b[0m\u001b[0minput\u001b[0m\u001b[1;33m(\u001b[0m\u001b[1;34m\" Please Enter the number : \"\u001b[0m\u001b[1;33m)\u001b[0m\u001b[1;33m)\u001b[0m\u001b[1;33m\u001b[0m\u001b[1;33m\u001b[0m\u001b[0m\n\u001b[0m\u001b[0;32m      8\u001b[0m \u001b[1;33m\u001b[0m\u001b[0m\n\u001b[0;32m      9\u001b[0m \u001b[1;32mif\u001b[0m \u001b[0mb\u001b[0m\u001b[1;33m<\u001b[0m\u001b[0ma\u001b[0m\u001b[1;33m:\u001b[0m\u001b[1;33m\u001b[0m\u001b[1;33m\u001b[0m\u001b[0m\n",
      "\u001b[1;31mValueError\u001b[0m: invalid literal for int() with base 10: 'dssfd'"
     ]
    }
   ],
   "source": [
    "# To take dynamic input\n",
    "\n",
    "# String,int,float,bool\n",
    "\n",
    "a = int(input(\" Please Enter the number : \"))\n",
    "\n",
    "b = int(input(\" Please Enter the number : \"))\n",
    "\n",
    "if b<a:\n",
    "    print(\"a is big\")\n",
    "    \n",
    "elif a==b:\n",
    "    print(\"a and b are equal\")\n",
    "    \n",
    "else:\n",
    "    print(\"b is big\")"
   ]
  },
  {
   "cell_type": "code",
   "execution_count": 22,
   "id": "fbbe8600",
   "metadata": {},
   "outputs": [
    {
     "ename": "SyntaxError",
     "evalue": "invalid syntax (Temp/ipykernel_3524/3854833800.py, line 5)",
     "output_type": "error",
     "traceback": [
      "\u001b[1;36m  File \u001b[1;32m\"C:\\Users\\x\\AppData\\Local\\Temp/ipykernel_3524/3854833800.py\"\u001b[1;36m, line \u001b[1;32m5\u001b[0m\n\u001b[1;33m    a = int(input(\" Please Enter the value for \"a\" : \"))\u001b[0m\n\u001b[1;37m                                                ^\u001b[0m\n\u001b[1;31mSyntaxError\u001b[0m\u001b[1;31m:\u001b[0m invalid syntax\n"
     ]
    }
   ],
   "source": [
    "# To take dynamic input\n",
    "\n",
    "# String,int,float,bool\n",
    "\n",
    "a = int(input(\" Please Enter the value for \"a\" : \"))\n",
    "\n",
    "b = int(input(\" Please Enter the value for \"b\" : \"))\n",
    "\n",
    "if b<a:\n",
    "    print(\"a is big\")\n",
    "    \n",
    "elif a==b:\n",
    "    print(\"a and b are equal\")\n",
    "    \n",
    "else:\n",
    "    print(\"b is big\")"
   ]
  },
  {
   "cell_type": "code",
   "execution_count": 25,
   "id": "7109d777",
   "metadata": {},
   "outputs": [
    {
     "name": "stdout",
     "output_type": "stream",
     "text": [
      " Please Enter the value for \"a\" : 3\n",
      " Please Enter the value for \"b\" : 3\n",
      "a and b are equal\n"
     ]
    }
   ],
   "source": [
    "# To take dynamic input\n",
    "\n",
    "# String,int,float,bool\n",
    "\n",
    "a = int(input(' Please Enter the value for \"a\" : '))\n",
    "\n",
    "b = float(input(' Please Enter the value for \"b\" : '))\n",
    "\n",
    "if b<a:\n",
    "    print(\"a is big\")\n",
    "    \n",
    "elif a==b:\n",
    "    print(\"a and b are equal\")\n",
    "    \n",
    "else:\n",
    "    print(\"b is big\")"
   ]
  },
  {
   "cell_type": "code",
   "execution_count": 27,
   "id": "116005a1",
   "metadata": {},
   "outputs": [
    {
     "name": "stdout",
     "output_type": "stream",
     "text": [
      "Please input the number A: 11\n",
      "Please input the number B: 11\n",
      "Please input the number C: 11\n",
      "c is big\n"
     ]
    }
   ],
   "source": [
    "# you have 3 numbers  write a program to find teh biggest number\n",
    "\n",
    "\n",
    "a = int(input(\"Please input the number A: \"))\n",
    "b = int(input(\"Please input the number B: \"))\n",
    "c = int(input(\"Please input the number C: \"))\n",
    "\n",
    "if a>b:\n",
    "    print(\"a is big\")\n",
    "elif b>c:\n",
    "    print (\"b is big\")\n",
    "else:\n",
    "    print (\"c is big\")"
   ]
  },
  {
   "cell_type": "code",
   "execution_count": 29,
   "id": "eeb2759b",
   "metadata": {},
   "outputs": [
    {
     "name": "stdout",
     "output_type": "stream",
     "text": [
      "Please input the number A: 1\n",
      "Please input the number B: 1\n",
      "Please input the number C: 1\n",
      "Please input the number D: 1\n",
      "Please input the number E: 1\n",
      " e is big\n"
     ]
    }
   ],
   "source": [
    "# you have 5 numbers  write a program to find teh biggest number\n",
    "a = int(input(\"Please input the number A: \"))\n",
    "b = int(input(\"Please input the number B: \"))\n",
    "c = int(input(\"Please input the number C: \"))\n",
    "d = int(input(\"Please input the number D: \"))\n",
    "e = int(input(\"Please input the number E: \"))\n",
    "\n",
    "\n",
    "if a>b and a>c and a>d and a>e:\n",
    "    print (\" a is big\")\n",
    "elif b>a and b>c and b>d and b>e:\n",
    "    print ( \" b is big\")\n",
    "elif c>a and c>b and c>d and c>e:\n",
    "    print (\" c is big\")\n",
    "elif d>a and d>b and d>c and d>e:\n",
    "    print (\" d is big\")\n",
    "else:\n",
    "    print (\" e is big\")\n",
    "\n"
   ]
  },
  {
   "cell_type": "code",
   "execution_count": 30,
   "id": "70ac1cd1",
   "metadata": {},
   "outputs": [
    {
     "name": "stdout",
     "output_type": "stream",
     "text": [
      "Enter the first number: 1\n",
      "Enter the second number: 1\n",
      "Enter the third number: 1\n",
      "The third number 1 is the biggest.\n"
     ]
    }
   ],
   "source": [
    "#  Nirmala Jyothi 8:06 PM\n",
    "\n",
    "a = int(input(\"Enter the first number: \"))\n",
    "b = int(input(\"Enter the second number: \"))\n",
    "c = int(input(\"Enter the third number: \"))\n",
    "\n",
    "if a > b and a > c:\n",
    "    print(\"The first number\", a , \"is the biggest.\")\n",
    "elif b > a and b > c:\n",
    "    print(\"The second number\", b , \"is the biggest.\")\n",
    "else:\n",
    "    print(\"The third number\", c , \"is the biggest.\")"
   ]
  },
  {
   "cell_type": "code",
   "execution_count": 35,
   "id": "1909fdf9",
   "metadata": {},
   "outputs": [
    {
     "name": "stdout",
     "output_type": "stream",
     "text": [
      "enter the value of a :1\n",
      "enter the value of b :0\n",
      "enter the value of c :1\n",
      "a is big\n"
     ]
    }
   ],
   "source": [
    "# greatest of 3 number\n",
    "a = int(input(\"enter the value of a :\"))\n",
    "b = int(input(\"enter the value of b :\"))\n",
    "c = int(input(\"enter the value of c :\"))\n",
    "\n",
    "if a>b:\n",
    "    print('a is big')\n",
    "elif b>c:\n",
    "    print ('b is big')\n",
    "elif a>c:\n",
    "    print ('a is big')\n",
    "elif a==b & a==c & b==c:\n",
    "    print ('a,b & C are equal')\n",
    "else:\n",
    "    print ('c is big')"
   ]
  },
  {
   "cell_type": "code",
   "execution_count": 36,
   "id": "1ad34173",
   "metadata": {},
   "outputs": [
    {
     "name": "stdout",
     "output_type": "stream",
     "text": [
      "Please input the number A: 1\n",
      "Please input the number B: 1\n",
      "Please input the number C: 0\n",
      "Please input the number D: 0\n",
      "Please input the number E: 0\n",
      " Something Wrong\n"
     ]
    }
   ],
   "source": [
    "a = int(input(\"Please input the number A: \"))\n",
    "b = int(input(\"Please input the number B: \"))\n",
    "c = int(input(\"Please input the number C: \"))\n",
    "d = int(input(\"Please input the number D: \"))\n",
    "e = int(input(\"Please input the number E: \"))\n",
    "\n",
    "\n",
    "if a>b and a>c and a>d and a>e:\n",
    "    print (\" a is big\")\n",
    "elif b>a and b>c and b>d and b>e:\n",
    "    print ( \" b is big\")\n",
    "elif c>a and c>b and c>d and c>e:\n",
    "    print (\" c is big\")\n",
    "elif d>a and d>b and d>c and d>e:\n",
    "    print (\" d is big\")\n",
    "elif e>a and e>b and e>c and e>d:\n",
    "    print (\" e is big\")\n",
    "else:\n",
    "    print (\" Something Wrong\")"
   ]
  },
  {
   "cell_type": "code",
   "execution_count": null,
   "id": "8444c24b",
   "metadata": {},
   "outputs": [],
   "source": []
  },
  {
   "cell_type": "code",
   "execution_count": null,
   "id": "d52db2f9",
   "metadata": {},
   "outputs": [],
   "source": [
    "# Please check and print a message if a number is in between 10 to 49 or 61 to 88."
   ]
  },
  {
   "cell_type": "code",
   "execution_count": 43,
   "id": "4a8819dd",
   "metadata": {},
   "outputs": [
    {
     "name": "stdout",
     "output_type": "stream",
     "text": [
      "Please enter a number62\n",
      "yes\n"
     ]
    }
   ],
   "source": [
    "a = int(input('Please enter a number'))\n",
    "\n",
    "if a>10 and a<49 or a>61 and a<88:\n",
    "    print ('yes')\n",
    "else:\n",
    "    print('no')"
   ]
  },
  {
   "cell_type": "code",
   "execution_count": 51,
   "id": "2abdab98",
   "metadata": {},
   "outputs": [
    {
     "name": "stdout",
     "output_type": "stream",
     "text": [
      "Enter the first number: 1\n",
      "Enter the second number: 2\n",
      "Enter the third number: 2\n",
      "'b' and 'c' are equal\n"
     ]
    }
   ],
   "source": [
    "a = int(input(\"Enter the first number: \"))\n",
    "b = int(input(\"Enter the second number: \"))\n",
    "c = int(input(\"Enter the third number: \"))\n",
    "\n",
    "if (a-b !=0 or  a-c!= 0) and a-b==a-c:\n",
    "    print(\"'b' and 'c' are equal\")\n",
    "elif a-b ==0 and a-c==0:\n",
    "    print(\"'a' 'b' 'c' are equal.\")"
   ]
  },
  {
   "cell_type": "code",
   "execution_count": null,
   "id": "65170fcc",
   "metadata": {},
   "outputs": [],
   "source": [
    "a = int(input(\"Enter the first number: \"))\n",
    "b = int(input(\"Enter the second number: \"))\n",
    "c = int(input(\"Enter the third number: \"))\n",
    "\n",
    "i = a-b\n",
    "j = b-c\n",
    "k = c-a\n",
    "\n"
   ]
  },
  {
   "cell_type": "code",
   "execution_count": null,
   "id": "27e9c70d",
   "metadata": {},
   "outputs": [],
   "source": [
    "a = int(input(\" Please input number A : \"))\n",
    "\n",
    "if a>11 and a<48 or a>61 and a<88:\n",
    "    print (\"Yes\")\n",
    "else:\n",
    "    print (\"No\")"
   ]
  },
  {
   "cell_type": "code",
   "execution_count": null,
   "id": "58b425e0",
   "metadata": {},
   "outputs": [],
   "source": [
    "# Write program to find the even number and its factors"
   ]
  },
  {
   "cell_type": "code",
   "execution_count": null,
   "id": "49dd22a2",
   "metadata": {},
   "outputs": [],
   "source": [
    "# Write a program to find all teh even numbers in a given range of numbers"
   ]
  },
  {
   "cell_type": "code",
   "execution_count": null,
   "id": "13eea335",
   "metadata": {},
   "outputs": [],
   "source": [
    "# Program to find biggest number and smallest number and sort the three numbers and print \n"
   ]
  }
 ],
 "metadata": {
  "kernelspec": {
   "display_name": "Python 3 (ipykernel)",
   "language": "python",
   "name": "python3"
  },
  "language_info": {
   "codemirror_mode": {
    "name": "ipython",
    "version": 3
   },
   "file_extension": ".py",
   "mimetype": "text/x-python",
   "name": "python",
   "nbconvert_exporter": "python",
   "pygments_lexer": "ipython3",
   "version": "3.9.7"
  }
 },
 "nbformat": 4,
 "nbformat_minor": 5
}
