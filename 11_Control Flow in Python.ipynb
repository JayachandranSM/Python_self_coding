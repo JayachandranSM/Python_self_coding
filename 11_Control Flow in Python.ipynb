{
 "cells": [
  {
   "cell_type": "code",
   "execution_count": 1,
   "id": "8c9fe034",
   "metadata": {},
   "outputs": [],
   "source": [
    "# Assigning the values\n",
    "\n",
    "a = 10\n",
    "\n",
    "b = 19\n",
    "\n",
    "if a>b:\n",
    "    print(\"a is big\")"
   ]
  },
  {
   "cell_type": "code",
   "execution_count": 2,
   "id": "cae456ed",
   "metadata": {},
   "outputs": [
    {
     "name": "stdout",
     "output_type": "stream",
     "text": [
      "a is big\n"
     ]
    }
   ],
   "source": [
    "# Assigning the values\n",
    "\n",
    "a = 112\n",
    "\n",
    "b = 19\n",
    "\n",
    "if a>b:\n",
    "    print(\"a is big\")"
   ]
  },
  {
   "cell_type": "code",
   "execution_count": 3,
   "id": "9345bc02",
   "metadata": {},
   "outputs": [
    {
     "name": "stdout",
     "output_type": "stream",
     "text": [
      "a is big\n"
     ]
    }
   ],
   "source": [
    "# Assigning the values\n",
    "\n",
    "a = 112\n",
    "\n",
    "b = 19\n",
    "\n",
    "if b<a:\n",
    "    print(\"a is big\")"
   ]
  },
  {
   "cell_type": "code",
   "execution_count": 4,
   "id": "efdae027",
   "metadata": {},
   "outputs": [],
   "source": [
    "# Assigning the values\n",
    "\n",
    "a = 112\n",
    "\n",
    "b = 192\n",
    "\n",
    "if b<a:\n",
    "    print(\"a is big\")\n"
   ]
  },
  {
   "cell_type": "code",
   "execution_count": 5,
   "id": "dbaa49d6",
   "metadata": {},
   "outputs": [
    {
     "name": "stdout",
     "output_type": "stream",
     "text": [
      "b is big\n"
     ]
    }
   ],
   "source": [
    "# Assigning the values\n",
    "\n",
    "a = 112\n",
    "\n",
    "b = 192\n",
    "\n",
    "if b<a:\n",
    "    print(\"a is big\")\n",
    "else:\n",
    "    print(\"b is big\")"
   ]
  },
  {
   "cell_type": "code",
   "execution_count": 6,
   "id": "8c9fd4c2",
   "metadata": {},
   "outputs": [
    {
     "name": "stdout",
     "output_type": "stream",
     "text": [
      "a is big\n"
     ]
    }
   ],
   "source": [
    "# Assigning the values\n",
    "\n",
    "a = 1122\n",
    "\n",
    "b = 192\n",
    "\n",
    "if b<a:\n",
    "    print(\"a is big\")\n",
    "else:\n",
    "    print(\"b is big\")"
   ]
  },
  {
   "cell_type": "code",
   "execution_count": 10,
   "id": "c09a018e",
   "metadata": {},
   "outputs": [
    {
     "name": "stdout",
     "output_type": "stream",
     "text": [
      "b is big\n"
     ]
    }
   ],
   "source": [
    "# Assigning the values\n",
    "\n",
    "a = 11\n",
    "\n",
    "b = 11\n",
    "\n",
    "if b<a:\n",
    "    print(\"a is big\")\n",
    "else:\n",
    "    print(\"b is big\")"
   ]
  },
  {
   "cell_type": "code",
   "execution_count": 14,
   "id": "2fc19209",
   "metadata": {},
   "outputs": [
    {
     "name": "stdout",
     "output_type": "stream",
     "text": [
      "b is big\n"
     ]
    }
   ],
   "source": [
    "# Assigning the values\n",
    "\n",
    "a = 23\n",
    "\n",
    "b = 45\n",
    "\n",
    "if b<a:\n",
    "    print(\"a is big\")\n",
    "    \n",
    "elif a==b:\n",
    "    print(\"a and b are equal\")\n",
    "    \n",
    "else:\n",
    "    print(\"b is big\")"
   ]
  },
  {
   "cell_type": "code",
   "execution_count": 17,
   "id": "32c119de",
   "metadata": {},
   "outputs": [
    {
     "name": "stdout",
     "output_type": "stream",
     "text": [
      " Please Enter the number : 876\n",
      " Please Enter the number : jhj\n",
      "b is big\n"
     ]
    }
   ],
   "source": [
    "# To take dynamic input\n",
    "# String,int,float,bool\n",
    "\n",
    "a = input(\" Please Enter the number : \")\n",
    "\n",
    "b = input(\" Please Enter the number : \")\n",
    "\n",
    "if b<a:\n",
    "    print(\"a is big\")\n",
    "    \n",
    "elif a==b:\n",
    "    print(\"a and b are equal\")\n",
    "    \n",
    "else:\n",
    "    print(\"b is big\")"
   ]
  },
  {
   "cell_type": "code",
   "execution_count": 18,
   "id": "e8a581a7",
   "metadata": {},
   "outputs": [
    {
     "data": {
      "text/plain": [
       "str"
      ]
     },
     "execution_count": 18,
     "metadata": {},
     "output_type": "execute_result"
    }
   ],
   "source": [
    " type(a)"
   ]
  },
  {
   "cell_type": "code",
   "execution_count": 19,
   "id": "42dca3d5",
   "metadata": {},
   "outputs": [
    {
     "data": {
      "text/plain": [
       "str"
      ]
     },
     "execution_count": 19,
     "metadata": {},
     "output_type": "execute_result"
    }
   ],
   "source": [
    "type(b)"
   ]
  },
  {
   "cell_type": "code",
   "execution_count": 20,
   "id": "8abfc8c9",
   "metadata": {},
   "outputs": [
    {
     "name": "stdout",
     "output_type": "stream",
     "text": [
      " Please Enter the number : 123\n",
      " Please Enter the number : dssfd\n"
     ]
    },
    {
     "ename": "ValueError",
     "evalue": "invalid literal for int() with base 10: 'dssfd'",
     "output_type": "error",
     "traceback": [
      "\u001b[1;31m---------------------------------------------------------------------------\u001b[0m",
      "\u001b[1;31mValueError\u001b[0m                                Traceback (most recent call last)",
      "\u001b[1;32m~\\AppData\\Local\\Temp/ipykernel_3524/511643072.py\u001b[0m in \u001b[0;36m<module>\u001b[1;34m\u001b[0m\n\u001b[0;32m      5\u001b[0m \u001b[0ma\u001b[0m \u001b[1;33m=\u001b[0m \u001b[0mint\u001b[0m\u001b[1;33m(\u001b[0m\u001b[0minput\u001b[0m\u001b[1;33m(\u001b[0m\u001b[1;34m\" Please Enter the number : \"\u001b[0m\u001b[1;33m)\u001b[0m\u001b[1;33m)\u001b[0m\u001b[1;33m\u001b[0m\u001b[1;33m\u001b[0m\u001b[0m\n\u001b[0;32m      6\u001b[0m \u001b[1;33m\u001b[0m\u001b[0m\n\u001b[1;32m----> 7\u001b[1;33m \u001b[0mb\u001b[0m \u001b[1;33m=\u001b[0m \u001b[0mint\u001b[0m\u001b[1;33m(\u001b[0m\u001b[0minput\u001b[0m\u001b[1;33m(\u001b[0m\u001b[1;34m\" Please Enter the number : \"\u001b[0m\u001b[1;33m)\u001b[0m\u001b[1;33m)\u001b[0m\u001b[1;33m\u001b[0m\u001b[1;33m\u001b[0m\u001b[0m\n\u001b[0m\u001b[0;32m      8\u001b[0m \u001b[1;33m\u001b[0m\u001b[0m\n\u001b[0;32m      9\u001b[0m \u001b[1;32mif\u001b[0m \u001b[0mb\u001b[0m\u001b[1;33m<\u001b[0m\u001b[0ma\u001b[0m\u001b[1;33m:\u001b[0m\u001b[1;33m\u001b[0m\u001b[1;33m\u001b[0m\u001b[0m\n",
      "\u001b[1;31mValueError\u001b[0m: invalid literal for int() with base 10: 'dssfd'"
     ]
    }
   ],
   "source": [
    "# To take dynamic input\n",
    "\n",
    "# String,int,float,bool\n",
    "\n",
    "a = int(input(\" Please Enter the number : \"))\n",
    "\n",
    "b = int(input(\" Please Enter the number : \"))\n",
    "\n",
    "if b<a:\n",
    "    print(\"a is big\")\n",
    "    \n",
    "elif a==b:\n",
    "    print(\"a and b are equal\")\n",
    "    \n",
    "else:\n",
    "    print(\"b is big\")"
   ]
  },
  {
   "cell_type": "code",
   "execution_count": 22,
   "id": "f397567d",
   "metadata": {},
   "outputs": [
    {
     "ename": "SyntaxError",
     "evalue": "invalid syntax (Temp/ipykernel_3524/3854833800.py, line 5)",
     "output_type": "error",
     "traceback": [
      "\u001b[1;36m  File \u001b[1;32m\"C:\\Users\\x\\AppData\\Local\\Temp/ipykernel_3524/3854833800.py\"\u001b[1;36m, line \u001b[1;32m5\u001b[0m\n\u001b[1;33m    a = int(input(\" Please Enter the value for \"a\" : \"))\u001b[0m\n\u001b[1;37m                                                ^\u001b[0m\n\u001b[1;31mSyntaxError\u001b[0m\u001b[1;31m:\u001b[0m invalid syntax\n"
     ]
    }
   ],
   "source": [
    "# To take dynamic input\n",
    "\n",
    "# String,int,float,bool\n",
    "\n",
    "a = int(input(\" Please Enter the value for \"a\" : \"))\n",
    "\n",
    "b = int(input(\" Please Enter the value for \"b\" : \"))\n",
    "\n",
    "if b<a:\n",
    "    print(\"a is big\")\n",
    "    \n",
    "elif a==b:\n",
    "    print(\"a and b are equal\")\n",
    "    \n",
    "else:\n",
    "    print(\"b is big\")"
   ]
  },
  {
   "cell_type": "code",
   "execution_count": 25,
   "id": "5456dc3f",
   "metadata": {},
   "outputs": [
    {
     "name": "stdout",
     "output_type": "stream",
     "text": [
      " Please Enter the value for \"a\" : 3\n",
      " Please Enter the value for \"b\" : 3\n",
      "a and b are equal\n"
     ]
    }
   ],
   "source": [
    "# To take dynamic input\n",
    "\n",
    "# String,int,float,bool\n",
    "\n",
    "a = int(input(' Please Enter the value for \"a\" : '))\n",
    "\n",
    "b = float(input(' Please Enter the value for \"b\" : '))\n",
    "\n",
    "if b<a:\n",
    "    print(\"a is big\")\n",
    "    \n",
    "elif a==b:\n",
    "    print(\"a and b are equal\")\n",
    "    \n",
    "else:\n",
    "    print(\"b is big\")"
   ]
  },
  {
   "cell_type": "code",
   "execution_count": null,
   "id": "ce4d9a9f",
   "metadata": {},
   "outputs": [],
   "source": [
    "# you have 3 numbers  write a program to find teh biggest number\n",
    "\n"
   ]
  },
  {
   "cell_type": "code",
   "execution_count": null,
   "id": "86068351",
   "metadata": {},
   "outputs": [],
   "source": [
    "# you have 5 numbers  write a program to find teh biggest number\n",
    "\n"
   ]
  }
 ],
 "metadata": {
  "kernelspec": {
   "display_name": "Python 3 (ipykernel)",
   "language": "python",
   "name": "python3"
  },
  "language_info": {
   "codemirror_mode": {
    "name": "ipython",
    "version": 3
   },
   "file_extension": ".py",
   "mimetype": "text/x-python",
   "name": "python",
   "nbconvert_exporter": "python",
   "pygments_lexer": "ipython3",
   "version": "3.9.7"
  }
 },
 "nbformat": 4,
 "nbformat_minor": 5
}
