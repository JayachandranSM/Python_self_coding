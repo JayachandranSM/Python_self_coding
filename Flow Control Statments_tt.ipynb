{
 "cells": [
  {
   "cell_type": "markdown",
   "id": "22ae045e",
   "metadata": {},
   "source": [
    "# <center> <font color = 'red'> Flow Control Statments<font/><center>"
   ]
  },
  {
   "cell_type": "markdown",
   "id": "eabf9447",
   "metadata": {},
   "source": [
    "- Flow Control Statments in python will help us to change the order of statments in execution wrt to our requirments, conditions.\n",
    "\n",
    "- These Flow Control Statments are mainly divided into 3 categories those are-\n",
    "\n",
    "    - Conditional Statments \n",
    "    \n",
    "    - Looping Statments / Iterative Statments\n",
    "    \n",
    "    - Control Statments/ Transfer Statments"
   ]
  },
  {
   "cell_type": "markdown",
   "id": "5554712b",
   "metadata": {},
   "source": [
    "<font color = 'red'>1. Conditional Statments:<font/>\n",
    "    \n",
    "    These are used to execute certain code blocks only if a certain condition is True. (if, else, elif)"
   ]
  },
  {
   "cell_type": "markdown",
   "id": "826673a4",
   "metadata": {},
   "source": [
    "<font color = 'red'>2. Looping Statments :<font/>\n",
    "    \n",
    "    These are used to execute a set of instructions repeatedly until a certain condition is met. In python 2 types of loops those are 1. for Loop  2. While Loop."
   ]
  },
  {
   "cell_type": "markdown",
   "id": "bc9f7832",
   "metadata": {},
   "source": [
    "<font color = 'red'>3. Transfer Statments :<font/>\n",
    "    \n",
    "    These are used to alter the flow of the program execution. In python 3 types of control statments, those are \n",
    "    1. Break \n",
    "    2. Continue \n",
    "    3. Pass"
   ]
  },
  {
   "cell_type": "markdown",
   "id": "dc32e88c",
   "metadata": {},
   "source": [
    "<font color ='red'>Question : 1<font/>\n",
    "\n",
    "By accepting dynamic list of numbers need to check those are divisible wrt  3,5,7,9 and after identifying those numbers store in seperate list for each and every category and print the final lists and their lengths."
   ]
  },
  {
   "cell_type": "markdown",
   "id": "0e0f8698",
   "metadata": {},
   "source": [
    "<font color ='red'>Solution:<font/>"
   ]
  },
  {
   "cell_type": "code",
   "execution_count": 18,
   "id": "4613e9a9",
   "metadata": {},
   "outputs": [
    {
     "name": "stdout",
     "output_type": "stream",
     "text": [
      " Please Enter the Sequence of elments : 1,2,3,4,5,6,7,8,9,10,15,20,30\n",
      "Length of list 5 : Elements in the list: [3, 6, 9, 15, 30]\n",
      "Length of list 5 : Elements in the list: [5, 10, 15, 20, 30]\n",
      "Length of list 1 : Elements in the list: [7]\n",
      "Length of list 1 : Elements in the list: [9]\n",
      "Length of list 2 : Elements in the list: [15, 30]\n"
     ]
    }
   ],
   "source": [
    "# Creating input variable which can able to accept list of numbers\n",
    "\n",
    "a_input = eval(input(\" Please Enter the Sequence of elments : \"))\n",
    "\n",
    "\n",
    "# Creating empty list to save the elements based on their divisibility.\n",
    "\n",
    "list_div_3 =[]\n",
    "list_div_5 =[]\n",
    "list_div_7 =[]\n",
    "list_div_9 =[]\n",
    "list_div_3_5=[]\n",
    "\n",
    "# Identify the divisibility\n",
    "for i in a_input:\n",
    "    \n",
    "    if i % 3 == 0:\n",
    "        list_div_3.append(i)\n",
    "        #print(list_div_3)\n",
    "        \n",
    "    if i % 5 == 0:\n",
    "        list_div_5.append(i)\n",
    "        #print(list_div_5)\n",
    "        \n",
    "    if i % 7 == 0:\n",
    "        list_div_7.append(i)\n",
    "        #print(list_div_7)\n",
    "    if i % 9 == 0:\n",
    "        list_div_9.append(i)\n",
    "        #print(list_div_9)\n",
    "        \n",
    "    if i%3==0 and i%5 ==0:\n",
    "        list_div_3_5.append(i)\n",
    "        \n",
    "\n",
    "for result in [list_div_3,list_div_5,list_div_7,list_div_9,list_div_3_5]:\n",
    "    print(\"Length of list {} : Elements in the list: {}\".format(len(result),result))"
   ]
  },
  {
   "cell_type": "code",
   "execution_count": null,
   "id": "e769bbf2",
   "metadata": {},
   "outputs": [],
   "source": []
  }
 ],
 "metadata": {
  "kernelspec": {
   "display_name": "Python 3 (ipykernel)",
   "language": "python",
   "name": "python3"
  },
  "language_info": {
   "codemirror_mode": {
    "name": "ipython",
    "version": 3
   },
   "file_extension": ".py",
   "mimetype": "text/x-python",
   "name": "python",
   "nbconvert_exporter": "python",
   "pygments_lexer": "ipython3",
   "version": "3.9.7"
  }
 },
 "nbformat": 4,
 "nbformat_minor": 5
}
