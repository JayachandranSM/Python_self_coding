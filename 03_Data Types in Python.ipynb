{
 "cells": [
  {
   "cell_type": "code",
   "execution_count": 2,
   "id": "d2891102",
   "metadata": {},
   "outputs": [],
   "source": [
    "# Integers\n",
    "\n",
    "# Assigning values to variables\n",
    "\n",
    "# LHS - variable Name\n",
    "# RHS = Value we are assigning to variable\n",
    "\n",
    "a =10\n",
    "b =12\n",
    "c =20"
   ]
  },
  {
   "cell_type": "code",
   "execution_count": 5,
   "id": "eae52001",
   "metadata": {},
   "outputs": [
    {
     "name": "stdout",
     "output_type": "stream",
     "text": [
      "10 12 20\n"
     ]
    }
   ],
   "source": [
    "print(a,b,c)"
   ]
  },
  {
   "cell_type": "code",
   "execution_count": 6,
   "id": "e59b3fa3",
   "metadata": {},
   "outputs": [
    {
     "data": {
      "text/plain": [
       "2032657066576"
      ]
     },
     "execution_count": 6,
     "metadata": {},
     "output_type": "execute_result"
    }
   ],
   "source": [
    "# To know the unique id of a value/ variable\n",
    "\n",
    "id(a)"
   ]
  },
  {
   "cell_type": "code",
   "execution_count": 7,
   "id": "d873c08d",
   "metadata": {},
   "outputs": [
    {
     "data": {
      "text/plain": [
       "2032657066640"
      ]
     },
     "execution_count": 7,
     "metadata": {},
     "output_type": "execute_result"
    }
   ],
   "source": [
    "id(b)"
   ]
  },
  {
   "cell_type": "code",
   "execution_count": 8,
   "id": "794372f8",
   "metadata": {},
   "outputs": [
    {
     "data": {
      "text/plain": [
       "2032657066896"
      ]
     },
     "execution_count": 8,
     "metadata": {},
     "output_type": "execute_result"
    }
   ],
   "source": [
    "id(c)"
   ]
  },
  {
   "cell_type": "code",
   "execution_count": 9,
   "id": "30d1c583",
   "metadata": {},
   "outputs": [
    {
     "data": {
      "text/plain": [
       "int"
      ]
     },
     "execution_count": 9,
     "metadata": {},
     "output_type": "execute_result"
    }
   ],
   "source": [
    "# To know the data type of a value\n",
    "\n",
    "type(a)"
   ]
  },
  {
   "cell_type": "code",
   "execution_count": 10,
   "id": "4781b661",
   "metadata": {},
   "outputs": [
    {
     "data": {
      "text/plain": [
       "int"
      ]
     },
     "execution_count": 10,
     "metadata": {},
     "output_type": "execute_result"
    }
   ],
   "source": [
    "a =100\n",
    "type(a)"
   ]
  },
  {
   "cell_type": "code",
   "execution_count": null,
   "id": "23c6256c",
   "metadata": {},
   "outputs": [],
   "source": [
    "Decimal - Default of Pyhton\n",
    "\n",
    "Binary\n",
    "\n",
    "Octal\n",
    "\n",
    "Hexadecimal"
   ]
  },
  {
   "cell_type": "code",
   "execution_count": 12,
   "id": "e3d1f131",
   "metadata": {},
   "outputs": [
    {
     "data": {
      "text/plain": [
       "'0b111100'"
      ]
     },
     "execution_count": 12,
     "metadata": {},
     "output_type": "execute_result"
    }
   ],
   "source": [
    "# Default Python base number system - Decimal\n",
    "\n",
    "a = 60 \n",
    "\n",
    "bin(a)"
   ]
  },
  {
   "cell_type": "code",
   "execution_count": 13,
   "id": "432b8a79",
   "metadata": {},
   "outputs": [
    {
     "data": {
      "text/plain": [
       "'0o74'"
      ]
     },
     "execution_count": 13,
     "metadata": {},
     "output_type": "execute_result"
    }
   ],
   "source": [
    "oct(a)"
   ]
  },
  {
   "cell_type": "code",
   "execution_count": 14,
   "id": "edfa41aa",
   "metadata": {},
   "outputs": [
    {
     "data": {
      "text/plain": [
       "'0x3c'"
      ]
     },
     "execution_count": 14,
     "metadata": {},
     "output_type": "execute_result"
    }
   ],
   "source": [
    "hex(a)"
   ]
  },
  {
   "cell_type": "code",
   "execution_count": 16,
   "id": "b0c4b75d",
   "metadata": {},
   "outputs": [
    {
     "data": {
      "text/plain": [
       "int"
      ]
     },
     "execution_count": 16,
     "metadata": {},
     "output_type": "execute_result"
    }
   ],
   "source": [
    "type(0xabcdef)"
   ]
  },
  {
   "cell_type": "code",
   "execution_count": 17,
   "id": "1adb2249",
   "metadata": {},
   "outputs": [
    {
     "data": {
      "text/plain": [
       "'0b101010111100110111101111'"
      ]
     },
     "execution_count": 17,
     "metadata": {},
     "output_type": "execute_result"
    }
   ],
   "source": [
    "bin(0xabcdef)"
   ]
  },
  {
   "cell_type": "code",
   "execution_count": 18,
   "id": "b13b4e52",
   "metadata": {},
   "outputs": [
    {
     "data": {
      "text/plain": [
       "'0o52746757'"
      ]
     },
     "execution_count": 18,
     "metadata": {},
     "output_type": "execute_result"
    }
   ],
   "source": [
    "oct(0b101010111100110111101111)"
   ]
  },
  {
   "cell_type": "code",
   "execution_count": 19,
   "id": "59760daa",
   "metadata": {},
   "outputs": [
    {
     "data": {
      "text/plain": [
       "11259375"
      ]
     },
     "execution_count": 19,
     "metadata": {},
     "output_type": "execute_result"
    }
   ],
   "source": [
    "0o52746757"
   ]
  },
  {
   "cell_type": "code",
   "execution_count": 20,
   "id": "597c209e",
   "metadata": {},
   "outputs": [
    {
     "data": {
      "text/plain": [
       "11259375"
      ]
     },
     "execution_count": 20,
     "metadata": {},
     "output_type": "execute_result"
    }
   ],
   "source": [
    "0xabcdef"
   ]
  },
  {
   "cell_type": "code",
   "execution_count": 21,
   "id": "7cfc8891",
   "metadata": {},
   "outputs": [
    {
     "data": {
      "text/plain": [
       "11259375"
      ]
     },
     "execution_count": 21,
     "metadata": {},
     "output_type": "execute_result"
    }
   ],
   "source": [
    "0b101010111100110111101111"
   ]
  },
  {
   "cell_type": "markdown",
   "id": "c7607292",
   "metadata": {},
   "source": [
    "# Float"
   ]
  },
  {
   "cell_type": "code",
   "execution_count": 22,
   "id": "8095ff5d",
   "metadata": {},
   "outputs": [],
   "source": [
    "a = 67"
   ]
  },
  {
   "cell_type": "code",
   "execution_count": 23,
   "id": "369afe25",
   "metadata": {},
   "outputs": [
    {
     "data": {
      "text/plain": [
       "int"
      ]
     },
     "execution_count": 23,
     "metadata": {},
     "output_type": "execute_result"
    }
   ],
   "source": [
    "type(a)"
   ]
  },
  {
   "cell_type": "code",
   "execution_count": 24,
   "id": "d6e9ccd1",
   "metadata": {},
   "outputs": [],
   "source": [
    "b = 67.0"
   ]
  },
  {
   "cell_type": "code",
   "execution_count": 25,
   "id": "a8a48cba",
   "metadata": {},
   "outputs": [
    {
     "data": {
      "text/plain": [
       "float"
      ]
     },
     "execution_count": 25,
     "metadata": {},
     "output_type": "execute_result"
    }
   ],
   "source": [
    "type(b)"
   ]
  },
  {
   "cell_type": "code",
   "execution_count": 26,
   "id": "810ced9d",
   "metadata": {},
   "outputs": [
    {
     "data": {
      "text/plain": [
       "True"
      ]
     },
     "execution_count": 26,
     "metadata": {},
     "output_type": "execute_result"
    }
   ],
   "source": [
    "67 == 67.0"
   ]
  },
  {
   "cell_type": "code",
   "execution_count": null,
   "id": "c16176e3",
   "metadata": {},
   "outputs": [],
   "source": [
    "123/100"
   ]
  },
  {
   "cell_type": "code",
   "execution_count": 27,
   "id": "8ddda83a",
   "metadata": {},
   "outputs": [
    {
     "data": {
      "text/plain": [
       "23000.0"
      ]
     },
     "execution_count": 27,
     "metadata": {},
     "output_type": "execute_result"
    }
   ],
   "source": [
    "2.3e4"
   ]
  },
  {
   "cell_type": "code",
   "execution_count": 28,
   "id": "db784040",
   "metadata": {},
   "outputs": [
    {
     "data": {
      "text/plain": [
       "340000000.0"
      ]
     },
     "execution_count": 28,
     "metadata": {},
     "output_type": "execute_result"
    }
   ],
   "source": [
    "3.4e8"
   ]
  },
  {
   "cell_type": "markdown",
   "id": "e8756aab",
   "metadata": {},
   "source": [
    "# Complex"
   ]
  },
  {
   "cell_type": "code",
   "execution_count": 29,
   "id": "638f7fe1",
   "metadata": {},
   "outputs": [],
   "source": [
    "a = 12 +34j"
   ]
  },
  {
   "cell_type": "code",
   "execution_count": 30,
   "id": "a8c05368",
   "metadata": {},
   "outputs": [
    {
     "data": {
      "text/plain": [
       "complex"
      ]
     },
     "execution_count": 30,
     "metadata": {},
     "output_type": "execute_result"
    }
   ],
   "source": [
    "type(a)"
   ]
  },
  {
   "cell_type": "code",
   "execution_count": 31,
   "id": "63cfb5b5",
   "metadata": {},
   "outputs": [
    {
     "data": {
      "text/plain": [
       "12.0"
      ]
     },
     "execution_count": 31,
     "metadata": {},
     "output_type": "execute_result"
    }
   ],
   "source": [
    "# To extract Real part from imaginary number\n",
    "\n",
    "a.real"
   ]
  },
  {
   "cell_type": "code",
   "execution_count": 32,
   "id": "913ebbdf",
   "metadata": {},
   "outputs": [
    {
     "data": {
      "text/plain": [
       "34.0"
      ]
     },
     "execution_count": 32,
     "metadata": {},
     "output_type": "execute_result"
    }
   ],
   "source": [
    "# To extract to fetch imaginary part from complex number\n",
    "\n",
    "a.imag"
   ]
  },
  {
   "cell_type": "code",
   "execution_count": 33,
   "id": "c51cfbac",
   "metadata": {},
   "outputs": [
    {
     "ename": "NameError",
     "evalue": "name 'j34' is not defined",
     "output_type": "error",
     "traceback": [
      "\u001b[1;31m---------------------------------------------------------------------------\u001b[0m",
      "\u001b[1;31mNameError\u001b[0m                                 Traceback (most recent call last)",
      "\u001b[1;32m~\\AppData\\Local\\Temp/ipykernel_11476/3527394690.py\u001b[0m in \u001b[0;36m<module>\u001b[1;34m\u001b[0m\n\u001b[1;32m----> 1\u001b[1;33m \u001b[0mb\u001b[0m \u001b[1;33m=\u001b[0m \u001b[1;36m12\u001b[0m \u001b[1;33m+\u001b[0m\u001b[0mj34\u001b[0m\u001b[1;33m\u001b[0m\u001b[1;33m\u001b[0m\u001b[0m\n\u001b[0m",
      "\u001b[1;31mNameError\u001b[0m: name 'j34' is not defined"
     ]
    }
   ],
   "source": [
    "b = 12 +j34"
   ]
  },
  {
   "cell_type": "markdown",
   "id": "ec945efd",
   "metadata": {},
   "source": [
    "# Boolean"
   ]
  },
  {
   "cell_type": "code",
   "execution_count": 34,
   "id": "b1903612",
   "metadata": {},
   "outputs": [
    {
     "ename": "NameError",
     "evalue": "name 'true' is not defined",
     "output_type": "error",
     "traceback": [
      "\u001b[1;31m---------------------------------------------------------------------------\u001b[0m",
      "\u001b[1;31mNameError\u001b[0m                                 Traceback (most recent call last)",
      "\u001b[1;32m~\\AppData\\Local\\Temp/ipykernel_11476/30709828.py\u001b[0m in \u001b[0;36m<module>\u001b[1;34m\u001b[0m\n\u001b[0;32m      1\u001b[0m \u001b[0ma\u001b[0m \u001b[1;33m=\u001b[0m \u001b[1;32mTrue\u001b[0m\u001b[1;33m\u001b[0m\u001b[1;33m\u001b[0m\u001b[0m\n\u001b[0;32m      2\u001b[0m \u001b[0mb\u001b[0m \u001b[1;33m=\u001b[0m \u001b[1;32mFalse\u001b[0m\u001b[1;33m\u001b[0m\u001b[1;33m\u001b[0m\u001b[0m\n\u001b[1;32m----> 3\u001b[1;33m \u001b[0mc\u001b[0m \u001b[1;33m=\u001b[0m \u001b[0mtrue\u001b[0m\u001b[1;33m\u001b[0m\u001b[1;33m\u001b[0m\u001b[0m\n\u001b[0m\u001b[0;32m      4\u001b[0m \u001b[0md\u001b[0m \u001b[1;33m=\u001b[0m \u001b[0mfalse\u001b[0m\u001b[1;33m\u001b[0m\u001b[1;33m\u001b[0m\u001b[0m\n",
      "\u001b[1;31mNameError\u001b[0m: name 'true' is not defined"
     ]
    }
   ],
   "source": [
    "a = True\n",
    "b = False\n",
    "c = true\n",
    "d = false"
   ]
  },
  {
   "cell_type": "code",
   "execution_count": 35,
   "id": "7953a754",
   "metadata": {},
   "outputs": [],
   "source": [
    "a = True\n",
    "b = False"
   ]
  },
  {
   "cell_type": "code",
   "execution_count": 36,
   "id": "e395c74f",
   "metadata": {},
   "outputs": [
    {
     "data": {
      "text/plain": [
       "True"
      ]
     },
     "execution_count": 36,
     "metadata": {},
     "output_type": "execute_result"
    }
   ],
   "source": [
    "a"
   ]
  },
  {
   "cell_type": "code",
   "execution_count": 37,
   "id": "24ac5ac4",
   "metadata": {},
   "outputs": [
    {
     "data": {
      "text/plain": [
       "False"
      ]
     },
     "execution_count": 37,
     "metadata": {},
     "output_type": "execute_result"
    }
   ],
   "source": [
    "b"
   ]
  },
  {
   "cell_type": "code",
   "execution_count": 38,
   "id": "41d9ef13",
   "metadata": {},
   "outputs": [
    {
     "data": {
      "text/plain": [
       "bool"
      ]
     },
     "execution_count": 38,
     "metadata": {},
     "output_type": "execute_result"
    }
   ],
   "source": [
    "type(a)"
   ]
  },
  {
   "cell_type": "code",
   "execution_count": 39,
   "id": "df37b76a",
   "metadata": {},
   "outputs": [
    {
     "data": {
      "text/plain": [
       "bool"
      ]
     },
     "execution_count": 39,
     "metadata": {},
     "output_type": "execute_result"
    }
   ],
   "source": [
    "type(b)"
   ]
  },
  {
   "cell_type": "code",
   "execution_count": 40,
   "id": "cbf432de",
   "metadata": {},
   "outputs": [
    {
     "data": {
      "text/plain": [
       "140719039600744"
      ]
     },
     "execution_count": 40,
     "metadata": {},
     "output_type": "execute_result"
    }
   ],
   "source": [
    "id(a)"
   ]
  },
  {
   "cell_type": "code",
   "execution_count": 41,
   "id": "3a0d6e3d",
   "metadata": {},
   "outputs": [
    {
     "data": {
      "text/plain": [
       "140719039600776"
      ]
     },
     "execution_count": 41,
     "metadata": {},
     "output_type": "execute_result"
    }
   ],
   "source": [
    "id(b)"
   ]
  },
  {
   "cell_type": "code",
   "execution_count": 42,
   "id": "e3d65bd4",
   "metadata": {},
   "outputs": [
    {
     "data": {
      "text/plain": [
       "2"
      ]
     },
     "execution_count": 42,
     "metadata": {},
     "output_type": "execute_result"
    }
   ],
   "source": [
    "True + True"
   ]
  },
  {
   "cell_type": "code",
   "execution_count": 43,
   "id": "cbd6baff",
   "metadata": {},
   "outputs": [
    {
     "ename": "NameError",
     "evalue": "name 'false' is not defined",
     "output_type": "error",
     "traceback": [
      "\u001b[1;31m---------------------------------------------------------------------------\u001b[0m",
      "\u001b[1;31mNameError\u001b[0m                                 Traceback (most recent call last)",
      "\u001b[1;32m~\\AppData\\Local\\Temp/ipykernel_11476/2272054068.py\u001b[0m in \u001b[0;36m<module>\u001b[1;34m\u001b[0m\n\u001b[1;32m----> 1\u001b[1;33m \u001b[0mfalse\u001b[0m \u001b[1;33m+\u001b[0m\u001b[1;32mFalse\u001b[0m\u001b[1;33m\u001b[0m\u001b[1;33m\u001b[0m\u001b[0m\n\u001b[0m",
      "\u001b[1;31mNameError\u001b[0m: name 'false' is not defined"
     ]
    }
   ],
   "source": [
    "false +False"
   ]
  },
  {
   "cell_type": "code",
   "execution_count": 45,
   "id": "98c9e5f1",
   "metadata": {},
   "outputs": [
    {
     "data": {
      "text/plain": [
       "0"
      ]
     },
     "execution_count": 45,
     "metadata": {},
     "output_type": "execute_result"
    }
   ],
   "source": [
    "False + False"
   ]
  },
  {
   "cell_type": "code",
   "execution_count": 47,
   "id": "818b329e",
   "metadata": {},
   "outputs": [
    {
     "data": {
      "text/plain": [
       "1"
      ]
     },
     "execution_count": 47,
     "metadata": {},
     "output_type": "execute_result"
    }
   ],
   "source": [
    "False + True"
   ]
  },
  {
   "cell_type": "code",
   "execution_count": 52,
   "id": "f2ed2810",
   "metadata": {},
   "outputs": [],
   "source": [
    "# String \n",
    "a = \"Free Full Stack Data Science Programme\""
   ]
  },
  {
   "cell_type": "code",
   "execution_count": 53,
   "id": "cb7ac202",
   "metadata": {},
   "outputs": [
    {
     "data": {
      "text/plain": [
       "str"
      ]
     },
     "execution_count": 53,
     "metadata": {},
     "output_type": "execute_result"
    }
   ],
   "source": [
    "type(a)"
   ]
  },
  {
   "cell_type": "code",
   "execution_count": 51,
   "id": "bd97c490",
   "metadata": {},
   "outputs": [],
   "source": [
    "# String \n",
    "b = 'Free Full Stack Data Science Programme'"
   ]
  },
  {
   "cell_type": "code",
   "execution_count": 54,
   "id": "e9bda404",
   "metadata": {},
   "outputs": [
    {
     "data": {
      "text/plain": [
       "str"
      ]
     },
     "execution_count": 54,
     "metadata": {},
     "output_type": "execute_result"
    }
   ],
   "source": [
    "type(b)"
   ]
  },
  {
   "cell_type": "code",
   "execution_count": 55,
   "id": "3a2e98d4",
   "metadata": {},
   "outputs": [
    {
     "ename": "SyntaxError",
     "evalue": "EOL while scanning string literal (Temp/ipykernel_11476/73077057.py, line 3)",
     "output_type": "error",
     "traceback": [
      "\u001b[1;36m  File \u001b[1;32m\"C:\\Users\\x\\AppData\\Local\\Temp/ipykernel_11476/73077057.py\"\u001b[1;36m, line \u001b[1;32m3\u001b[0m\n\u001b[1;33m    c = \"Free Full Stack Data Science Programme'\u001b[0m\n\u001b[1;37m                                                ^\u001b[0m\n\u001b[1;31mSyntaxError\u001b[0m\u001b[1;31m:\u001b[0m EOL while scanning string literal\n"
     ]
    }
   ],
   "source": [
    "# Wrong syntax/ Representation of string\n",
    "\n",
    "c = \"Free Full Stack Data Science Programme'"
   ]
  },
  {
   "cell_type": "code",
   "execution_count": 56,
   "id": "c3fe2f7d",
   "metadata": {},
   "outputs": [],
   "source": [
    "\n",
    "c = \"Free Full Stack Data Science Programme'\""
   ]
  },
  {
   "cell_type": "code",
   "execution_count": 57,
   "id": "34a17ebf",
   "metadata": {},
   "outputs": [
    {
     "data": {
      "text/plain": [
       "str"
      ]
     },
     "execution_count": 57,
     "metadata": {},
     "output_type": "execute_result"
    }
   ],
   "source": [
    "type(c)"
   ]
  },
  {
   "cell_type": "code",
   "execution_count": 58,
   "id": "41613566",
   "metadata": {},
   "outputs": [
    {
     "data": {
      "text/plain": [
       "\"Free Full Stack Data Science Programme'\""
      ]
     },
     "execution_count": 58,
     "metadata": {},
     "output_type": "execute_result"
    }
   ],
   "source": [
    "c"
   ]
  },
  {
   "cell_type": "code",
   "execution_count": 59,
   "id": "1745ddd8",
   "metadata": {},
   "outputs": [
    {
     "data": {
      "text/plain": [
       "'hi this\\nis full stack\\nData Science\\nProgramme'"
      ]
     },
     "execution_count": 59,
     "metadata": {},
     "output_type": "execute_result"
    }
   ],
   "source": [
    "'''hi this\n",
    "is full stack\n",
    "Data Science\n",
    "Programme'''"
   ]
  },
  {
   "cell_type": "code",
   "execution_count": 60,
   "id": "5aabdba0",
   "metadata": {},
   "outputs": [
    {
     "data": {
      "text/plain": [
       "'hi this\\nis full stack\\nData Science\\nProgramme'"
      ]
     },
     "execution_count": 60,
     "metadata": {},
     "output_type": "execute_result"
    }
   ],
   "source": [
    "\"\"\"hi this\n",
    "is full stack\n",
    "Data Science\n",
    "Programme\"\"\""
   ]
  },
  {
   "cell_type": "code",
   "execution_count": 61,
   "id": "a03fd1b3",
   "metadata": {},
   "outputs": [],
   "source": [
    "a = 'Full Stack Data Science Programme \"For All\"'"
   ]
  },
  {
   "cell_type": "code",
   "execution_count": 62,
   "id": "1b074e29",
   "metadata": {},
   "outputs": [
    {
     "data": {
      "text/plain": [
       "str"
      ]
     },
     "execution_count": 62,
     "metadata": {},
     "output_type": "execute_result"
    }
   ],
   "source": [
    "# To know the data type\n",
    "\n",
    "type(a)"
   ]
  },
  {
   "cell_type": "code",
   "execution_count": 63,
   "id": "6e15fa20",
   "metadata": {},
   "outputs": [
    {
     "data": {
      "text/plain": [
       "2032740744144"
      ]
     },
     "execution_count": 63,
     "metadata": {},
     "output_type": "execute_result"
    }
   ],
   "source": [
    "# To know the uynique identity\n",
    "\n",
    "id(a)"
   ]
  },
  {
   "cell_type": "code",
   "execution_count": 65,
   "id": "b26877d6",
   "metadata": {},
   "outputs": [
    {
     "data": {
      "text/plain": [
       "43"
      ]
     },
     "execution_count": 65,
     "metadata": {},
     "output_type": "execute_result"
    }
   ],
   "source": [
    "# To find the length \n",
    "\n",
    "len(a)"
   ]
  },
  {
   "cell_type": "code",
   "execution_count": null,
   "id": "c54e6a24",
   "metadata": {},
   "outputs": [],
   "source": []
  }
 ],
 "metadata": {
  "kernelspec": {
   "display_name": "Python 3 (ipykernel)",
   "language": "python",
   "name": "python3"
  },
  "language_info": {
   "codemirror_mode": {
    "name": "ipython",
    "version": 3
   },
   "file_extension": ".py",
   "mimetype": "text/x-python",
   "name": "python",
   "nbconvert_exporter": "python",
   "pygments_lexer": "ipython3",
   "version": "3.9.7"
  }
 },
 "nbformat": 4,
 "nbformat_minor": 5
}
