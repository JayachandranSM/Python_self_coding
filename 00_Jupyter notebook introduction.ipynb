{
 "cells": [
  {
   "cell_type": "code",
   "execution_count": null,
   "id": "249c51c7",
   "metadata": {},
   "outputs": [],
   "source": [
    "cell/ Code cell"
   ]
  },
  {
   "cell_type": "markdown",
   "id": "9768b26d",
   "metadata": {},
   "source": [
    "# Markdown\n",
    "\n",
    "asdhfgaskjdhfas\n",
    "f\n",
    "asdf\n",
    "asd\n",
    "f\n",
    "asdf\n",
    "as\n",
    "df\n",
    "asdf\n",
    "asd"
   ]
  },
  {
   "cell_type": "markdown",
   "id": "6778e29e",
   "metadata": {},
   "source": [
    "# Jupyter Note book Short cuts"
   ]
  },
  {
   "cell_type": "markdown",
   "id": "364e8372",
   "metadata": {},
   "source": [
    "# To add a new cell\n",
    "\n",
    "\n",
    "1. \" +\" from UI\n",
    "\n",
    "2.  ESC + A -  Above\n",
    "\n",
    "3.  Esc + B  - Below \n",
    "\n",
    "4. Up arrow, Down Arrow will help you to move the cells positions in the jupyter notebook.\n",
    "\n",
    "5. To delete a cell ESC +DD\n",
    "\n",
    "6. To convert  code cell to markdown\n",
    "             1. From UI Dropdown Selection (Markdown)\n",
    "             2. ESC + M\n",
    "7. Markdown to Code cell  - > Esc + Y\n",
    "\n",
    "8. To execute code we have mutiple methods : \n",
    "             1. Run on UI\n",
    "             2. Shift + Enter\n",
    "             3. Ctrl + Enter"
   ]
  },
  {
   "cell_type": "code",
   "execution_count": null,
   "id": "98ed9f4e",
   "metadata": {},
   "outputs": [],
   "source": [
    "To create cell above to the curent cell "
   ]
  },
  {
   "cell_type": "code",
   "execution_count": null,
   "id": "1fff1b61",
   "metadata": {},
   "outputs": [],
   "source": [
    "- Current cell"
   ]
  },
  {
   "cell_type": "code",
   "execution_count": null,
   "id": "6bed03fc",
   "metadata": {},
   "outputs": [],
   "source": [
    "delete Esc + dd"
   ]
  },
  {
   "cell_type": "code",
   "execution_count": null,
   "id": "e9294985",
   "metadata": {},
   "outputs": [],
   "source": [
    "To Create below to the current cell"
   ]
  },
  {
   "cell_type": "markdown",
   "id": "a5ad599a",
   "metadata": {},
   "source": [
    "# How can you take beautiful notes"
   ]
  },
  {
   "cell_type": "markdown",
   "id": "2b81e87d",
   "metadata": {},
   "source": [
    "# <font color = 'Brow'>*Colored Text*<font/>\n",
    "   \n",
    "# Heading \n",
    "    \n",
    "## Heading\n",
    "    \n",
    "### Headings\n",
    "    \n",
    "#### Heading\n",
    "    \n",
    "##### Heading\n",
    "    \n",
    "    \n",
    "1. point number one\n",
    "        2. Sub point 1\n",
    "    \n",
    "- importent point\n",
    "    \n",
    "    \n",
    "    \n",
    "**Bold Text**\n",
    "    \n",
    "*Italic Text*"
   ]
  },
  {
   "cell_type": "code",
   "execution_count": null,
   "id": "3a919ff0",
   "metadata": {},
   "outputs": [],
   "source": []
  }
 ],
 "metadata": {
  "kernelspec": {
   "display_name": "Python 3 (ipykernel)",
   "language": "python",
   "name": "python3"
  },
  "language_info": {
   "codemirror_mode": {
    "name": "ipython",
    "version": 3
   },
   "file_extension": ".py",
   "mimetype": "text/x-python",
   "name": "python",
   "nbconvert_exporter": "python",
   "pygments_lexer": "ipython3",
   "version": "3.9.7"
  }
 },
 "nbformat": 4,
 "nbformat_minor": 5
}
