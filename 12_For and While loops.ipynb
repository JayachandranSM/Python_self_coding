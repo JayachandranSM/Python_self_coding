{
 "cells": [
  {
   "cell_type": "markdown",
   "id": "690eb5c0",
   "metadata": {},
   "source": [
    "# Iterative Statments"
   ]
  },
  {
   "cell_type": "markdown",
   "id": "0900a183",
   "metadata": {},
   "source": [
    "- If we want to execute same group of statments multiple times then we need to use Iterative Statments.\n",
    "\n",
    "- We have 2 types of Iterative statments \n",
    "\n",
    "    - 1. Foor Loop : If you want to execute some action for every element present in sequence then we should use for loop.\n",
    "    - 2. While loop : If you want to execute a group of statments iteratively until some condition flase, then we should use While loop."
   ]
  },
  {
   "cell_type": "code",
   "execution_count": 2,
   "id": "0ccb4610",
   "metadata": {},
   "outputs": [
    {
     "data": {
      "text/plain": [
       "range(1, 11)"
      ]
     },
     "execution_count": 2,
     "metadata": {},
     "output_type": "execute_result"
    }
   ],
   "source": [
    "# How to create a sequence of numbers from 1 to 10 ?\n",
    "\n",
    "a = range(1,11)\n",
    "a"
   ]
  },
  {
   "cell_type": "code",
   "execution_count": 3,
   "id": "5a49dcce",
   "metadata": {},
   "outputs": [
    {
     "name": "stdout",
     "output_type": "stream",
     "text": [
      "1\n",
      "2\n",
      "3\n",
      "4\n",
      "5\n",
      "6\n",
      "7\n",
      "8\n",
      "9\n",
      "10\n"
     ]
    }
   ],
   "source": [
    "for i in a:\n",
    "    print(i)"
   ]
  },
  {
   "cell_type": "code",
   "execution_count": 5,
   "id": "cdad52cc",
   "metadata": {},
   "outputs": [
    {
     "name": "stdout",
     "output_type": "stream",
     "text": [
      "1\n",
      "2\n",
      "3\n",
      "4\n",
      "2\n",
      "3\n",
      "4\n",
      "3\n",
      "4\n",
      "4\n"
     ]
    }
   ],
   "source": [
    "for i in a:\n",
    "    while i<5:\n",
    "        print(i)\n",
    "        i+=1"
   ]
  },
  {
   "cell_type": "code",
   "execution_count": 6,
   "id": "a70f490b",
   "metadata": {},
   "outputs": [
    {
     "name": "stdout",
     "output_type": "stream",
     "text": [
      "1\n",
      "2\n",
      "3\n",
      "4\n",
      "5\n",
      "6\n",
      "7\n",
      "8\n",
      "9\n",
      "10\n"
     ]
    }
   ],
   "source": [
    "for i in a:\n",
    "    print(i)"
   ]
  },
  {
   "cell_type": "code",
   "execution_count": 8,
   "id": "28c34beb",
   "metadata": {},
   "outputs": [
    {
     "name": "stdout",
     "output_type": "stream",
     "text": [
      "Hi\n"
     ]
    }
   ],
   "source": [
    "i = 1\n",
    "while i <2:\n",
    "    print(\"Hi\")\n",
    "    i = i+1"
   ]
  },
  {
   "cell_type": "code",
   "execution_count": 10,
   "id": "54298641",
   "metadata": {},
   "outputs": [
    {
     "name": "stdout",
     "output_type": "stream",
     "text": [
      "1\n",
      "3\n",
      "5\n",
      "7\n",
      "9\n",
      "13\n",
      "15\n"
     ]
    }
   ],
   "source": [
    "# Write a program to find the odd numbers in the give list= [1,3,4,5,6,7,8,9,12,13,14,15,16]\n",
    "\n",
    "# Create a list\n",
    "\n",
    "# Access each element in the list\n",
    "    \n",
    "# Check the accessed number is Odd or not  (% - operator)         \n",
    "\n",
    "# Print the odd number      \n",
    "    \n",
    "a = [1,3,4,5,6,7,8,9,12,13,14,15,16]\n",
    "for i in a:\n",
    "    if i %2!=0: \n",
    "        print(i)\n",
    "        "
   ]
  },
  {
   "cell_type": "code",
   "execution_count": 11,
   "id": "a13310ef",
   "metadata": {},
   "outputs": [
    {
     "name": "stdout",
     "output_type": "stream",
     "text": [
      "[4, 6, 8, 12, 14, 16]\n",
      "[1, 3, 5, 7, 9, 13, 15]\n"
     ]
    }
   ],
   "source": [
    "# Write a programe to seperate even and odd numbers into 2 lists\n",
    "even_list =[]\n",
    "odd_list =[]\n",
    "a = [1,3,4,5,6,7,8,9,12,13,14,15,16]\n",
    "\n",
    "for i in a:\n",
    "    if i%2==0:\n",
    "        even_list.append(i)\n",
    "    else:\n",
    "        odd_list.append(i)\n",
    "print(even_list)\n",
    "print(odd_list)\n"
   ]
  },
  {
   "cell_type": "markdown",
   "id": "1d13b62b",
   "metadata": {},
   "source": [
    "# I need to give dynamic input any range of numbers you need to identify multiples of 3,6,11 and save those multiple in 3 different lists and print how many elements are there in each list"
   ]
  },
  {
   "cell_type": "code",
   "execution_count": null,
   "id": "64422597",
   "metadata": {},
   "outputs": [],
   "source": [
    "20,21,22,23,24,25,26,27,28,29,30,31\n",
    "\n",
    "multiple of 3 = 21,24,27,30 - 4\n",
    "multiples pof 6 = 24,30 - 2\n",
    "multiples of 11 = 22 - 1"
   ]
  },
  {
   "cell_type": "code",
   "execution_count": null,
   "id": "1020bed5",
   "metadata": {},
   "outputs": [],
   "source": [
    "# Write a program which will accept only a word input Python, until you provide python as input it will need to ask enter input."
   ]
  },
  {
   "cell_type": "code",
   "execution_count": null,
   "id": "a72170ba",
   "metadata": {},
   "outputs": [],
   "source": []
  }
 ],
 "metadata": {
  "kernelspec": {
   "display_name": "Python 3 (ipykernel)",
   "language": "python",
   "name": "python3"
  },
  "language_info": {
   "codemirror_mode": {
    "name": "ipython",
    "version": 3
   },
   "file_extension": ".py",
   "mimetype": "text/x-python",
   "name": "python",
   "nbconvert_exporter": "python",
   "pygments_lexer": "ipython3",
   "version": "3.9.7"
  }
 },
 "nbformat": 4,
 "nbformat_minor": 5
}
